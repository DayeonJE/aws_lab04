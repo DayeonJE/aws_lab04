{
 "cells": [
  {
   "cell_type": "markdown",
   "id": "b7b41d9d",
   "metadata": {},
   "source": [
    "# 비지도 학습 : 차원축소, 군집화"
   ]
  },
  {
   "cell_type": "markdown",
   "id": "fe3a7cec",
   "metadata": {},
   "source": [
    "### [1] 차원 축소\n",
    "### - PCA(Principal Component Analysis) : 주성분 분석\n",
    "- 차원 축소 알고리즘, 비지도 학습\n",
    "- 이미지 데이터의 차원 축소, 자연언어 텍스트 의미 분석\n",
    "- 원본 데이터의 정보 유실이 최소화 되도록 축소시킨다\n",
    "- 데이터의 변동성(Variance)을 기반으로 축울 생성하여 축소하는 알고리즘이다  \n",
    "- 이미지 분류등의 분류 수행시 과적합을 방지하여 예측 성능 향상"
   ]
  },
  {
   "cell_type": "code",
   "execution_count": 1,
   "id": "aae9e524",
   "metadata": {},
   "outputs": [],
   "source": [
    "from sklearn.datasets import load_iris\n",
    "\n",
    "import pandas as pd\n",
    "import numpy as np\n",
    "import matplotlib.pyplot as plt"
   ]
  },
  {
   "cell_type": "code",
   "execution_count": 7,
   "id": "92d2694d",
   "metadata": {},
   "outputs": [
    {
     "data": {
      "text/html": [
       "<div>\n",
       "<style scoped>\n",
       "    .dataframe tbody tr th:only-of-type {\n",
       "        vertical-align: middle;\n",
       "    }\n",
       "\n",
       "    .dataframe tbody tr th {\n",
       "        vertical-align: top;\n",
       "    }\n",
       "\n",
       "    .dataframe thead th {\n",
       "        text-align: right;\n",
       "    }\n",
       "</style>\n",
       "<table border=\"1\" class=\"dataframe\">\n",
       "  <thead>\n",
       "    <tr style=\"text-align: right;\">\n",
       "      <th></th>\n",
       "      <th>sepal_length</th>\n",
       "      <th>sepal_width</th>\n",
       "      <th>petal_length</th>\n",
       "      <th>petal_width</th>\n",
       "      <th>target</th>\n",
       "    </tr>\n",
       "  </thead>\n",
       "  <tbody>\n",
       "    <tr>\n",
       "      <th>0</th>\n",
       "      <td>5.1</td>\n",
       "      <td>3.5</td>\n",
       "      <td>1.4</td>\n",
       "      <td>0.2</td>\n",
       "      <td>0</td>\n",
       "    </tr>\n",
       "    <tr>\n",
       "      <th>1</th>\n",
       "      <td>4.9</td>\n",
       "      <td>3.0</td>\n",
       "      <td>1.4</td>\n",
       "      <td>0.2</td>\n",
       "      <td>0</td>\n",
       "    </tr>\n",
       "    <tr>\n",
       "      <th>2</th>\n",
       "      <td>4.7</td>\n",
       "      <td>3.2</td>\n",
       "      <td>1.3</td>\n",
       "      <td>0.2</td>\n",
       "      <td>0</td>\n",
       "    </tr>\n",
       "    <tr>\n",
       "      <th>3</th>\n",
       "      <td>4.6</td>\n",
       "      <td>3.1</td>\n",
       "      <td>1.5</td>\n",
       "      <td>0.2</td>\n",
       "      <td>0</td>\n",
       "    </tr>\n",
       "    <tr>\n",
       "      <th>4</th>\n",
       "      <td>5.0</td>\n",
       "      <td>3.6</td>\n",
       "      <td>1.4</td>\n",
       "      <td>0.2</td>\n",
       "      <td>0</td>\n",
       "    </tr>\n",
       "    <tr>\n",
       "      <th>...</th>\n",
       "      <td>...</td>\n",
       "      <td>...</td>\n",
       "      <td>...</td>\n",
       "      <td>...</td>\n",
       "      <td>...</td>\n",
       "    </tr>\n",
       "    <tr>\n",
       "      <th>145</th>\n",
       "      <td>6.7</td>\n",
       "      <td>3.0</td>\n",
       "      <td>5.2</td>\n",
       "      <td>2.3</td>\n",
       "      <td>2</td>\n",
       "    </tr>\n",
       "    <tr>\n",
       "      <th>146</th>\n",
       "      <td>6.3</td>\n",
       "      <td>2.5</td>\n",
       "      <td>5.0</td>\n",
       "      <td>1.9</td>\n",
       "      <td>2</td>\n",
       "    </tr>\n",
       "    <tr>\n",
       "      <th>147</th>\n",
       "      <td>6.5</td>\n",
       "      <td>3.0</td>\n",
       "      <td>5.2</td>\n",
       "      <td>2.0</td>\n",
       "      <td>2</td>\n",
       "    </tr>\n",
       "    <tr>\n",
       "      <th>148</th>\n",
       "      <td>6.2</td>\n",
       "      <td>3.4</td>\n",
       "      <td>5.4</td>\n",
       "      <td>2.3</td>\n",
       "      <td>2</td>\n",
       "    </tr>\n",
       "    <tr>\n",
       "      <th>149</th>\n",
       "      <td>5.9</td>\n",
       "      <td>3.0</td>\n",
       "      <td>5.1</td>\n",
       "      <td>1.8</td>\n",
       "      <td>2</td>\n",
       "    </tr>\n",
       "  </tbody>\n",
       "</table>\n",
       "<p>150 rows × 5 columns</p>\n",
       "</div>"
      ],
      "text/plain": [
       "     sepal_length  sepal_width  petal_length  petal_width  target\n",
       "0             5.1          3.5           1.4          0.2       0\n",
       "1             4.9          3.0           1.4          0.2       0\n",
       "2             4.7          3.2           1.3          0.2       0\n",
       "3             4.6          3.1           1.5          0.2       0\n",
       "4             5.0          3.6           1.4          0.2       0\n",
       "..            ...          ...           ...          ...     ...\n",
       "145           6.7          3.0           5.2          2.3       2\n",
       "146           6.3          2.5           5.0          1.9       2\n",
       "147           6.5          3.0           5.2          2.0       2\n",
       "148           6.2          3.4           5.4          2.3       2\n",
       "149           5.9          3.0           5.1          1.8       2\n",
       "\n",
       "[150 rows x 5 columns]"
      ]
     },
     "execution_count": 7,
     "metadata": {},
     "output_type": "execute_result"
    }
   ],
   "source": [
    "# iris 데이터를 가져오기\n",
    "iris = load_iris()\n",
    "type(iris)  # sklearn.utils.Bunch ==> numpy array의 묶음\n",
    "type(iris.data)    # X     numpy array\n",
    "type(iris.target)  # Y     numpy array \n",
    "# numpy array를 DataFrame으로 변환\n",
    "# sepal : 꽃받침    \n",
    "# petal : 꽃잎\n",
    "iris_df = pd.DataFrame(iris.data,columns=iris.feature_names)\n",
    "iris_df  # 원본 컬럼 이름을 출력\n",
    "\n",
    "# 컬럼 이름을 새로 만들어서 데이터 프레임을 생성\n",
    "columns = ['sepal_length','sepal_width','petal_length','petal_width']\n",
    "iris_df = pd.DataFrame(iris.data,columns=columns)\n",
    "\n",
    "# target 은 'setosa' : 0,  'versicolor' : 1   ,'virginica':2\n",
    "# 답이 3개 이상인 multi-classification \n",
    "iris_df['target'] = iris.target\n",
    "iris_df  # (150, 5) "
   ]
  },
  {
   "cell_type": "code",
   "execution_count": 10,
   "id": "23e58eaf",
   "metadata": {},
   "outputs": [
    {
     "data": {
      "image/png": "[encoded data removed]",
      "text/plain": [
       "<Figure size 640x480 with 1 Axes>"
      ]
     },
     "metadata": {},
     "output_type": "display_data"
    }
   ],
   "source": [
    "# 원본 데이터의 시각화\n",
    "# 'setosa' : 세모,  'versicolor' : 네모   ,'virginica': 동그라미\n",
    "markers = ['^', 's', 'o']\n",
    "\n",
    "for i , marker in enumerate(markers):\n",
    "    x = iris_df[iris_df['target']==i]['sepal_length']\n",
    "    y = iris_df[iris_df['target']==i]['sepal_width']\n",
    "    plt.scatter(x,y,marker=marker,label=iris.target_names[i])\n",
    "plt.legend()\n",
    "plt.xlabel('sepal_length')\n",
    "plt.ylabel('sepal_width')\n",
    "plt.show()"
   ]
  },
  {
   "cell_type": "code",
   "execution_count": 18,
   "id": "57b936dc",
   "metadata": {},
   "outputs": [
    {
     "name": "stdout",
     "output_type": "stream",
     "text": [
      "(150, 2)\n"
     ]
    },
    {
     "data": {
      "text/html": [
       "<div>\n",
       "<style scoped>\n",
       "    .dataframe tbody tr th:only-of-type {\n",
       "        vertical-align: middle;\n",
       "    }\n",
       "\n",
       "    .dataframe tbody tr th {\n",
       "        vertical-align: top;\n",
       "    }\n",
       "\n",
       "    .dataframe thead th {\n",
       "        text-align: right;\n",
       "    }\n",
       "</style>\n",
       "<table border=\"1\" class=\"dataframe\">\n",
       "  <thead>\n",
       "    <tr style=\"text-align: right;\">\n",
       "      <th></th>\n",
       "      <th>pca_component_1</th>\n",
       "      <th>pca_component_2</th>\n",
       "      <th>target</th>\n",
       "    </tr>\n",
       "  </thead>\n",
       "  <tbody>\n",
       "    <tr>\n",
       "      <th>0</th>\n",
       "      <td>-2.576120</td>\n",
       "      <td>0.474499</td>\n",
       "      <td>0</td>\n",
       "    </tr>\n",
       "    <tr>\n",
       "      <th>1</th>\n",
       "      <td>-2.415322</td>\n",
       "      <td>-0.678092</td>\n",
       "      <td>0</td>\n",
       "    </tr>\n",
       "    <tr>\n",
       "      <th>2</th>\n",
       "      <td>-2.659333</td>\n",
       "      <td>-0.348282</td>\n",
       "      <td>0</td>\n",
       "    </tr>\n",
       "    <tr>\n",
       "      <th>3</th>\n",
       "      <td>-2.601991</td>\n",
       "      <td>-0.603306</td>\n",
       "      <td>0</td>\n",
       "    </tr>\n",
       "    <tr>\n",
       "      <th>4</th>\n",
       "      <td>-2.683744</td>\n",
       "      <td>0.640220</td>\n",
       "      <td>0</td>\n",
       "    </tr>\n",
       "    <tr>\n",
       "      <th>...</th>\n",
       "      <td>...</td>\n",
       "      <td>...</td>\n",
       "      <td>...</td>\n",
       "    </tr>\n",
       "    <tr>\n",
       "      <th>145</th>\n",
       "      <td>2.233024</td>\n",
       "      <td>0.389352</td>\n",
       "      <td>2</td>\n",
       "    </tr>\n",
       "    <tr>\n",
       "      <th>146</th>\n",
       "      <td>1.966862</td>\n",
       "      <td>-0.896264</td>\n",
       "      <td>2</td>\n",
       "    </tr>\n",
       "    <tr>\n",
       "      <th>147</th>\n",
       "      <td>1.928996</td>\n",
       "      <td>0.268890</td>\n",
       "      <td>2</td>\n",
       "    </tr>\n",
       "    <tr>\n",
       "      <th>148</th>\n",
       "      <td>1.806149</td>\n",
       "      <td>1.009217</td>\n",
       "      <td>2</td>\n",
       "    </tr>\n",
       "    <tr>\n",
       "      <th>149</th>\n",
       "      <td>1.446001</td>\n",
       "      <td>-0.029041</td>\n",
       "      <td>2</td>\n",
       "    </tr>\n",
       "  </tbody>\n",
       "</table>\n",
       "<p>150 rows × 3 columns</p>\n",
       "</div>"
      ],
      "text/plain": [
       "     pca_component_1  pca_component_2  target\n",
       "0          -2.576120         0.474499       0\n",
       "1          -2.415322        -0.678092       0\n",
       "2          -2.659333        -0.348282       0\n",
       "3          -2.601991        -0.603306       0\n",
       "4          -2.683744         0.640220       0\n",
       "..               ...              ...     ...\n",
       "145         2.233024         0.389352       2\n",
       "146         1.966862        -0.896264       2\n",
       "147         1.928996         0.268890       2\n",
       "148         1.806149         1.009217       2\n",
       "149         1.446001        -0.029041       2\n",
       "\n",
       "[150 rows x 3 columns]"
      ]
     },
     "execution_count": 18,
     "metadata": {},
     "output_type": "execute_result"
    }
   ],
   "source": [
    "# 데이터를 표준화하여 정규분포로 전처리\n",
    "from sklearn.preprocessing import StandardScaler\n",
    "iris_scaled = StandardScaler().fit_transform(iris_df)\n",
    "iris_scaled\n",
    "\n",
    "# PCA 변환\n",
    "from sklearn.decomposition import PCA\n",
    "\n",
    "pca = PCA(n_components=2)  # 축소될 차원 설정: 2차원\n",
    "iris_pca = pca.fit_transform(iris_scaled)\n",
    "print(iris_pca.shape) #  (150,2)\n",
    "\n",
    "# PCA 변환 데이터를 target을 추가하여 데이터 프레임으로 변경\n",
    "pca_columns = ['pca_component_1','pca_component_2']\n",
    "iris_df_pca = pd.DataFrame(iris_pca,columns=pca_columns)\n",
    "iris_df_pca['target'] = iris.target\n",
    "iris_df_pca"
   ]
  },
  {
   "cell_type": "code",
   "execution_count": 19,
   "id": "a7e5bfe6",
   "metadata": {},
   "outputs": [
    {
     "data": {
      "image/png": "[encoded data removed]",
      "text/plain": [
       "<Figure size 640x480 with 1 Axes>"
      ]
     },
     "metadata": {},
     "output_type": "display_data"
    }
   ],
   "source": [
    "# PCA 데이터의 시각화\n",
    "# 'setosa' : 세모,  'versicolor' : 네모   ,'virginica': 동그라미\n",
    "markers = ['^', 's', 'o']\n",
    "\n",
    "for i , marker in enumerate(markers):\n",
    "    x = iris_df_pca[iris_df_pca['target']==i]['pca_component_1']\n",
    "    y = iris_df_pca[iris_df_pca['target']==i]['pca_component_2']\n",
    "    plt.scatter(x,y,marker=marker,label=iris.target_names[i])\n",
    "plt.legend()\n",
    "plt.xlabel('pca_component_1')\n",
    "plt.ylabel('pca_component_2')\n",
    "plt.show()"
   ]
  },
  {
   "cell_type": "code",
   "execution_count": 20,
   "id": "95246681",
   "metadata": {},
   "outputs": [
    {
     "name": "stdout",
     "output_type": "stream",
     "text": [
      "[0.98 0.94 0.96] 0.96\n"
     ]
    }
   ],
   "source": [
    "# RandomForestClassifier\n",
    "from sklearn.ensemble import RandomForestClassifier\n",
    "from sklearn.model_selection import cross_val_score\n",
    "\n",
    "rcf = RandomForestClassifier(random_state=156,n_estimators=100)\n",
    "\n",
    "# 원본 데이터로 교차 검증\n",
    "scores = cross_val_score(rcf,iris.data,iris.target,\n",
    "                         scoring='accuracy', cv=3)\n",
    "print(scores,scores.mean())\n",
    "# [0.98039216 0.92156863 0.95833333]"
   ]
  },
  {
   "cell_type": "code",
   "execution_count": 23,
   "id": "da03172b",
   "metadata": {},
   "outputs": [
    {
     "name": "stdout",
     "output_type": "stream",
     "text": [
      "pca score: [0.98 0.98 1.  ] 0.9866666666666667\n"
     ]
    }
   ],
   "source": [
    "# PCA 데이터로 교차 검증\n",
    "# pca_x = iris_df_pca[['pca_component_1','pca_component_2']]\n",
    "pca_x = iris_df_pca.iloc[:,:-1]\n",
    "scores_pca = cross_val_score(rcf,pca_x,iris.target,\n",
    "                         scoring='accuracy', cv=3)\n",
    "print('pca score:',scores_pca,scores_pca.mean())\n",
    "\n",
    "# pca score: [0.98039216 0.98039216 1.        ]\n",
    "# 결론 PCA 변환하여 예측한 결과의 정확도가 약간 상승했다\n",
    "\n",
    "# PCA 변환된 데이터 세트가 원본 보다 더 나은 정확도를나타내는 경우는 드물다\n",
    "# 4개의 피처를 2개로 줄여 예측 성능에 영향을 받지 않을 정도로 PCA 변환이 잘 적용됨"
   ]
  },
  {
   "cell_type": "markdown",
   "id": "3d38599c",
   "metadata": {},
   "source": [
    "### [2]  군집화(Clustering,클러스터링)\n",
    "#### 비지도 학습 알고리즘\n",
    "\n",
    "- 고객이나 마켓 및 사회 경제 활동 세분화(Segmentation)\n",
    "- 영상 분야 : 이미지 검출, 세분화, 트래킹\n",
    "- 이상 검출(Abnormally Detection)\n",
    "\n",
    "#### : K-Means(K-평균) , Mean Shift(평균이동), 친근도전파"
   ]
  },
  {
   "cell_type": "code",
   "execution_count": 27,
   "id": "1e03269d",
   "metadata": {},
   "outputs": [
    {
     "data": {
      "text/html": [
       "<div>\n",
       "<style scoped>\n",
       "    .dataframe tbody tr th:only-of-type {\n",
       "        vertical-align: middle;\n",
       "    }\n",
       "\n",
       "    .dataframe tbody tr th {\n",
       "        vertical-align: top;\n",
       "    }\n",
       "\n",
       "    .dataframe thead th {\n",
       "        text-align: right;\n",
       "    }\n",
       "</style>\n",
       "<table border=\"1\" class=\"dataframe\">\n",
       "  <thead>\n",
       "    <tr style=\"text-align: right;\">\n",
       "      <th></th>\n",
       "      <th>sepal_length</th>\n",
       "      <th>sepal_width</th>\n",
       "      <th>petal_length</th>\n",
       "      <th>petal_width</th>\n",
       "    </tr>\n",
       "  </thead>\n",
       "  <tbody>\n",
       "    <tr>\n",
       "      <th>0</th>\n",
       "      <td>5.1</td>\n",
       "      <td>3.5</td>\n",
       "      <td>1.4</td>\n",
       "      <td>0.2</td>\n",
       "    </tr>\n",
       "    <tr>\n",
       "      <th>1</th>\n",
       "      <td>4.9</td>\n",
       "      <td>3.0</td>\n",
       "      <td>1.4</td>\n",
       "      <td>0.2</td>\n",
       "    </tr>\n",
       "    <tr>\n",
       "      <th>2</th>\n",
       "      <td>4.7</td>\n",
       "      <td>3.2</td>\n",
       "      <td>1.3</td>\n",
       "      <td>0.2</td>\n",
       "    </tr>\n",
       "    <tr>\n",
       "      <th>3</th>\n",
       "      <td>4.6</td>\n",
       "      <td>3.1</td>\n",
       "      <td>1.5</td>\n",
       "      <td>0.2</td>\n",
       "    </tr>\n",
       "    <tr>\n",
       "      <th>4</th>\n",
       "      <td>5.0</td>\n",
       "      <td>3.6</td>\n",
       "      <td>1.4</td>\n",
       "      <td>0.2</td>\n",
       "    </tr>\n",
       "    <tr>\n",
       "      <th>...</th>\n",
       "      <td>...</td>\n",
       "      <td>...</td>\n",
       "      <td>...</td>\n",
       "      <td>...</td>\n",
       "    </tr>\n",
       "    <tr>\n",
       "      <th>145</th>\n",
       "      <td>6.7</td>\n",
       "      <td>3.0</td>\n",
       "      <td>5.2</td>\n",
       "      <td>2.3</td>\n",
       "    </tr>\n",
       "    <tr>\n",
       "      <th>146</th>\n",
       "      <td>6.3</td>\n",
       "      <td>2.5</td>\n",
       "      <td>5.0</td>\n",
       "      <td>1.9</td>\n",
       "    </tr>\n",
       "    <tr>\n",
       "      <th>147</th>\n",
       "      <td>6.5</td>\n",
       "      <td>3.0</td>\n",
       "      <td>5.2</td>\n",
       "      <td>2.0</td>\n",
       "    </tr>\n",
       "    <tr>\n",
       "      <th>148</th>\n",
       "      <td>6.2</td>\n",
       "      <td>3.4</td>\n",
       "      <td>5.4</td>\n",
       "      <td>2.3</td>\n",
       "    </tr>\n",
       "    <tr>\n",
       "      <th>149</th>\n",
       "      <td>5.9</td>\n",
       "      <td>3.0</td>\n",
       "      <td>5.1</td>\n",
       "      <td>1.8</td>\n",
       "    </tr>\n",
       "  </tbody>\n",
       "</table>\n",
       "<p>150 rows × 4 columns</p>\n",
       "</div>"
      ],
      "text/plain": [
       "     sepal_length  sepal_width  petal_length  petal_width\n",
       "0             5.1          3.5           1.4          0.2\n",
       "1             4.9          3.0           1.4          0.2\n",
       "2             4.7          3.2           1.3          0.2\n",
       "3             4.6          3.1           1.5          0.2\n",
       "4             5.0          3.6           1.4          0.2\n",
       "..            ...          ...           ...          ...\n",
       "145           6.7          3.0           5.2          2.3\n",
       "146           6.3          2.5           5.0          1.9\n",
       "147           6.5          3.0           5.2          2.0\n",
       "148           6.2          3.4           5.4          2.3\n",
       "149           5.9          3.0           5.1          1.8\n",
       "\n",
       "[150 rows x 4 columns]"
      ]
     },
     "execution_count": 27,
     "metadata": {},
     "output_type": "execute_result"
    }
   ],
   "source": [
    "from sklearn.cluster import KMeans\n",
    "\n",
    "iris = load_iris()\n",
    "columns = ['sepal_length',\n",
    "           'sepal_width',\n",
    "           'petal_length',\n",
    "           'petal_width']\n",
    "irisDF = pd.DataFrame(iris.data,columns=columns)\n",
    "irisDF.shape # (150, 4)\n",
    "irisDF"
   ]
  },
  {
   "cell_type": "code",
   "execution_count": 29,
   "id": "3081c4d1",
   "metadata": {},
   "outputs": [
    {
     "name": "stderr",
     "output_type": "stream",
     "text": [
      "C:\\Users\\storm\\anaconda3\\envs\\tf210\\lib\\site-packages\\sklearn\\cluster\\_kmeans.py:870: FutureWarning: The default value of `n_init` will change from 10 to 'auto' in 1.4. Set the value of `n_init` explicitly to suppress the warning\n",
      "  warnings.warn(\n",
      "C:\\Users\\storm\\anaconda3\\envs\\tf210\\lib\\site-packages\\sklearn\\cluster\\_kmeans.py:1382: UserWarning: KMeans is known to have a memory leak on Windows with MKL, when there are less chunks than available threads. You can avoid it by setting the environment variable OMP_NUM_THREADS=1.\n",
      "  warnings.warn(\n"
     ]
    },
    {
     "name": "stdout",
     "output_type": "stream",
     "text": [
      "KMeans(n_clusters=3, random_state=0)\n"
     ]
    }
   ],
   "source": [
    "# KMeans 객체를 생성하고 군집화 수행\n",
    "\n",
    "# sklearn.cluster.KMeans(n_clusters=8, init=’k-means++’, n_init=10,\n",
    "# max_iter=300, tol=0.0001, precompute_distances=’auto’, verbose=0, \n",
    "# random_state=None, copy_x=True, n_jobs=None, algorithm=’auto’)\n",
    "\n",
    "kmeans = KMeans(n_clusters=3, init='k-means++',max_iter=300,\n",
    "                random_state=0)\n",
    "# 'k-means++' : centroid 를 random으로 잡지 않고 초기화하는 알고리즘을 사용\n",
    "#  max_iter : 최대 반복 횟수, 최대값 이내에서 모든 데이터의 중심점 이동이 없으면 종료한다\n",
    "\n",
    "kmeans.fit(irisDF)\n",
    "print(kmeans)"
   ]
  },
  {
   "cell_type": "code",
   "execution_count": 30,
   "id": "40fba96d",
   "metadata": {},
   "outputs": [
    {
     "name": "stdout",
     "output_type": "stream",
     "text": [
      "[1 1 1 1 1 1 1 1 1 1 1 1 1 1 1 1 1 1 1 1 1 1 1 1 1 1 1 1 1 1 1 1 1 1 1 1 1\n",
      " 1 1 1 1 1 1 1 1 1 1 1 1 1 0 0 2 0 0 0 0 0 0 0 0 0 0 0 0 0 0 0 0 0 0 0 0 0\n",
      " 0 0 0 2 0 0 0 0 0 0 0 0 0 0 0 0 0 0 0 0 0 0 0 0 0 0 2 0 2 2 2 2 0 2 2 2 2\n",
      " 2 2 0 0 2 2 2 2 0 2 0 2 0 2 2 0 0 2 2 2 2 2 0 2 2 2 2 0 2 2 2 0 2 2 2 0 2\n",
      " 2 0]\n",
      "(150,)\n",
      "[[5.9016129  2.7483871  4.39354839 1.43387097]\n",
      " [5.006      3.428      1.462      0.246     ]\n",
      " [6.85       3.07368421 5.74210526 2.07105263]]\n",
      "(3, 4)\n"
     ]
    }
   ],
   "source": [
    "print(kmeans.labels_)          # 각 데이터트가 속한 군집 중심점의 레이블\n",
    "print(kmeans.labels_.shape)    # (150,)\n",
    "print(kmeans.cluster_centers_) # 중심점 실제 좌표값\n",
    "print(kmeans.cluster_centers_.shape) # (3,4)"
   ]
  },
  {
   "cell_type": "code",
   "execution_count": 31,
   "id": "a2e8df4a",
   "metadata": {},
   "outputs": [
    {
     "data": {
      "text/plain": [
       "array([1, 1, 1, 1, 1, 1, 1, 1, 1, 1, 1, 1, 1, 1, 1, 1, 1, 1, 1, 1, 1, 1,\n",
       "       1, 1, 1, 1, 1, 1, 1, 1, 1, 1, 1, 1, 1, 1, 1, 1, 1, 1, 1, 1, 1, 1,\n",
       "       1, 1, 1, 1, 1, 1, 0, 0, 2, 0, 0, 0, 0, 0, 0, 0, 0, 0, 0, 0, 0, 0,\n",
       "       0, 0, 0, 0, 0, 0, 0, 0, 0, 0, 0, 2, 0, 0, 0, 0, 0, 0, 0, 0, 0, 0,\n",
       "       0, 0, 0, 0, 0, 0, 0, 0, 0, 0, 0, 0, 2, 0, 2, 2, 2, 2, 0, 2, 2, 2,\n",
       "       2, 2, 2, 0, 0, 2, 2, 2, 2, 0, 2, 0, 2, 0, 2, 2, 0, 0, 2, 2, 2, 2,\n",
       "       2, 0, 2, 2, 2, 2, 0, 2, 2, 2, 0, 2, 2, 2, 0, 2, 2, 0])"
      ]
     },
     "execution_count": 31,
     "metadata": {},
     "output_type": "execute_result"
    }
   ],
   "source": [
    "# 예측\n",
    "kmeans.predict(irisDF)"
   ]
  },
  {
   "cell_type": "code",
   "execution_count": 35,
   "id": "d2054038",
   "metadata": {},
   "outputs": [
    {
     "data": {
      "text/plain": [
       "target  cluster\n",
       "0       1          50\n",
       "1       0          48\n",
       "        2           2\n",
       "2       0          14\n",
       "        2          36\n",
       "Name: sepal_length, dtype: int64"
      ]
     },
     "execution_count": 35,
     "metadata": {},
     "output_type": "execute_result"
    }
   ],
   "source": [
    "irisDF['cluster'] = kmeans.labels_\n",
    "irisDF['target'] = iris.target\n",
    "irisDF\n",
    "\n",
    "irisDF.groupby(['target','cluster'])['sepal_length'].count()\n",
    "# target이 0인 데이터는 1번 군집에 50개  , 'setoasa'는  완벽히 분리 \n",
    "# target이 1인 데이터는 0번 군집에 48개,2번 군집에 2개\n",
    "# target이 2인 데이터는 0번 군집에 14개, 2번 군집에 36개로 생성"
   ]
  },
  {
   "cell_type": "code",
   "execution_count": null,
   "id": "4abdfc18",
   "metadata": {},
   "outputs": [],
   "source": []
  }
 ],
 "metadata": {
  "kernelspec": {
   "display_name": "Python 3 (ipykernel)",
   "language": "python",
   "name": "python3"
  },
  "language_info": {
   "codemirror_mode": {
    "name": "ipython",
    "version": 3
   },
   "file_extension": ".py",
   "mimetype": "text/x-python",
   "name": "python",
   "nbconvert_exporter": "python",
   "pygments_lexer": "ipython3",
   "version": "3.9.16"
  }
 },
 "nbformat": 4,
 "nbformat_minor": 5
}
