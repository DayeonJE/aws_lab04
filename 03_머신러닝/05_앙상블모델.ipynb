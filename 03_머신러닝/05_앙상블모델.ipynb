{
 "cells": [
  {
   "cell_type": "markdown",
   "id": "5462de68",
   "metadata": {},
   "source": [
    "### 앙상블(Ensemble) : 결정트리 기반 알고리즘 결합하여 구현\n",
    "[앙상블 종류 요약]\n",
    "\n",
    "* (1) Voting : 서로 다른 알고리즘 가진 분류기를 결합, 사이킷런은 VotingClassifier 클래스를 제공함\n",
    "\n",
    " <1> 하드보팅(Hard Voting) : 분류기들이 예측한 결과 값을 다수결로 결정 <br>\n",
    " <2> 소프트 보팅(Soft Voting) : 각 분류기들이 예측값을 확률로 구하면 이를 평균 내어 확률이 가장 높은 값을 결과 값으로 결정 <br> <br>\n",
    "\n",
    "* (2) Bagging : 같은 유형의 알고리즘을 결합, 데이터 샘플링시 서로 다르게 가져가면서 학습, RandomForest 가 대표적, Bootstrapping Aggregation 줄임말 <br>\n",
    " ( Bootstrapping : 여러개의 데이터 세트를 중첩되게 분리하는 분할 방식  )\n",
    " <br>\n",
    "\n",
    "* (3) Boosting : 여러개의 분류기가 순차적으로 학습하면서 가중치를 부스팅한다, XGBoost(캐글 대회 상위 석권),LightGBM\n",
    "\n",
    " AdaBoost 알고리즘 참고사이트:  https://dohk.tistory.com/217"
   ]
  },
  {
   "cell_type": "markdown",
   "id": "2207a26c",
   "metadata": {},
   "source": [
    "### Bagging"
   ]
  },
  {
   "cell_type": "markdown",
   "id": "2c9e68fa",
   "metadata": {},
   "source": [
    "### 랜덤포레스트(RandomForest)\n",
    "- 의사 결정 트리 기반(Decision Tree) 기반 분류 알고리즘\n",
    "- 앙상블(Ensemble), 같은 결정트리를 여러개 사용, 비교적 빠른 수행\n",
    "- 현재의 랜덤 포레스트의 개념은 레오 브레이먼(Leo Breimen)의 논문에서 만들어짐, 이 논문은 랜덤 노드 최적화(Randomized Node Optimization,RNO)와 배깅(bagging)을 결합한 방법과 같은 CART(Classification And Regression Tree)를 사용해 상관관계가 없는 트리들로 포레스트를 구성하는 방법을 제시했다"
   ]
  },
  {
   "cell_type": "code",
   "execution_count": 1,
   "id": "debcd669",
   "metadata": {},
   "outputs": [],
   "source": [
    "from sklearn.ensemble import RandomForestClassifier\n",
    "from sklearn.model_selection import train_test_split\n",
    "from sklearn import metrics\n",
    "\n",
    "from sklearn.datasets import load_breast_cancer\n",
    "\n",
    "import pandas as pd\n",
    "import numpy as np\n",
    "import matplotlib.pyplot as plt"
   ]
  },
  {
   "cell_type": "code",
   "execution_count": 2,
   "id": "be1ee20a",
   "metadata": {},
   "outputs": [
    {
     "data": {
      "text/html": [
       "<div>\n",
       "<style scoped>\n",
       "    .dataframe tbody tr th:only-of-type {\n",
       "        vertical-align: middle;\n",
       "    }\n",
       "\n",
       "    .dataframe tbody tr th {\n",
       "        vertical-align: top;\n",
       "    }\n",
       "\n",
       "    .dataframe thead th {\n",
       "        text-align: right;\n",
       "    }\n",
       "</style>\n",
       "<table border=\"1\" class=\"dataframe\">\n",
       "  <thead>\n",
       "    <tr style=\"text-align: right;\">\n",
       "      <th></th>\n",
       "      <th>mean radius</th>\n",
       "      <th>mean texture</th>\n",
       "      <th>mean perimeter</th>\n",
       "      <th>mean area</th>\n",
       "      <th>mean smoothness</th>\n",
       "      <th>mean compactness</th>\n",
       "      <th>mean concavity</th>\n",
       "      <th>mean concave points</th>\n",
       "      <th>mean symmetry</th>\n",
       "      <th>mean fractal dimension</th>\n",
       "      <th>...</th>\n",
       "      <th>worst texture</th>\n",
       "      <th>worst perimeter</th>\n",
       "      <th>worst area</th>\n",
       "      <th>worst smoothness</th>\n",
       "      <th>worst compactness</th>\n",
       "      <th>worst concavity</th>\n",
       "      <th>worst concave points</th>\n",
       "      <th>worst symmetry</th>\n",
       "      <th>worst fractal dimension</th>\n",
       "      <th>target</th>\n",
       "    </tr>\n",
       "  </thead>\n",
       "  <tbody>\n",
       "    <tr>\n",
       "      <th>0</th>\n",
       "      <td>17.99</td>\n",
       "      <td>10.38</td>\n",
       "      <td>122.80</td>\n",
       "      <td>1001.0</td>\n",
       "      <td>0.11840</td>\n",
       "      <td>0.27760</td>\n",
       "      <td>0.30010</td>\n",
       "      <td>0.14710</td>\n",
       "      <td>0.2419</td>\n",
       "      <td>0.07871</td>\n",
       "      <td>...</td>\n",
       "      <td>17.33</td>\n",
       "      <td>184.60</td>\n",
       "      <td>2019.0</td>\n",
       "      <td>0.16220</td>\n",
       "      <td>0.66560</td>\n",
       "      <td>0.7119</td>\n",
       "      <td>0.2654</td>\n",
       "      <td>0.4601</td>\n",
       "      <td>0.11890</td>\n",
       "      <td>0</td>\n",
       "    </tr>\n",
       "    <tr>\n",
       "      <th>1</th>\n",
       "      <td>20.57</td>\n",
       "      <td>17.77</td>\n",
       "      <td>132.90</td>\n",
       "      <td>1326.0</td>\n",
       "      <td>0.08474</td>\n",
       "      <td>0.07864</td>\n",
       "      <td>0.08690</td>\n",
       "      <td>0.07017</td>\n",
       "      <td>0.1812</td>\n",
       "      <td>0.05667</td>\n",
       "      <td>...</td>\n",
       "      <td>23.41</td>\n",
       "      <td>158.80</td>\n",
       "      <td>1956.0</td>\n",
       "      <td>0.12380</td>\n",
       "      <td>0.18660</td>\n",
       "      <td>0.2416</td>\n",
       "      <td>0.1860</td>\n",
       "      <td>0.2750</td>\n",
       "      <td>0.08902</td>\n",
       "      <td>0</td>\n",
       "    </tr>\n",
       "    <tr>\n",
       "      <th>2</th>\n",
       "      <td>19.69</td>\n",
       "      <td>21.25</td>\n",
       "      <td>130.00</td>\n",
       "      <td>1203.0</td>\n",
       "      <td>0.10960</td>\n",
       "      <td>0.15990</td>\n",
       "      <td>0.19740</td>\n",
       "      <td>0.12790</td>\n",
       "      <td>0.2069</td>\n",
       "      <td>0.05999</td>\n",
       "      <td>...</td>\n",
       "      <td>25.53</td>\n",
       "      <td>152.50</td>\n",
       "      <td>1709.0</td>\n",
       "      <td>0.14440</td>\n",
       "      <td>0.42450</td>\n",
       "      <td>0.4504</td>\n",
       "      <td>0.2430</td>\n",
       "      <td>0.3613</td>\n",
       "      <td>0.08758</td>\n",
       "      <td>0</td>\n",
       "    </tr>\n",
       "    <tr>\n",
       "      <th>3</th>\n",
       "      <td>11.42</td>\n",
       "      <td>20.38</td>\n",
       "      <td>77.58</td>\n",
       "      <td>386.1</td>\n",
       "      <td>0.14250</td>\n",
       "      <td>0.28390</td>\n",
       "      <td>0.24140</td>\n",
       "      <td>0.10520</td>\n",
       "      <td>0.2597</td>\n",
       "      <td>0.09744</td>\n",
       "      <td>...</td>\n",
       "      <td>26.50</td>\n",
       "      <td>98.87</td>\n",
       "      <td>567.7</td>\n",
       "      <td>0.20980</td>\n",
       "      <td>0.86630</td>\n",
       "      <td>0.6869</td>\n",
       "      <td>0.2575</td>\n",
       "      <td>0.6638</td>\n",
       "      <td>0.17300</td>\n",
       "      <td>0</td>\n",
       "    </tr>\n",
       "    <tr>\n",
       "      <th>4</th>\n",
       "      <td>20.29</td>\n",
       "      <td>14.34</td>\n",
       "      <td>135.10</td>\n",
       "      <td>1297.0</td>\n",
       "      <td>0.10030</td>\n",
       "      <td>0.13280</td>\n",
       "      <td>0.19800</td>\n",
       "      <td>0.10430</td>\n",
       "      <td>0.1809</td>\n",
       "      <td>0.05883</td>\n",
       "      <td>...</td>\n",
       "      <td>16.67</td>\n",
       "      <td>152.20</td>\n",
       "      <td>1575.0</td>\n",
       "      <td>0.13740</td>\n",
       "      <td>0.20500</td>\n",
       "      <td>0.4000</td>\n",
       "      <td>0.1625</td>\n",
       "      <td>0.2364</td>\n",
       "      <td>0.07678</td>\n",
       "      <td>0</td>\n",
       "    </tr>\n",
       "    <tr>\n",
       "      <th>...</th>\n",
       "      <td>...</td>\n",
       "      <td>...</td>\n",
       "      <td>...</td>\n",
       "      <td>...</td>\n",
       "      <td>...</td>\n",
       "      <td>...</td>\n",
       "      <td>...</td>\n",
       "      <td>...</td>\n",
       "      <td>...</td>\n",
       "      <td>...</td>\n",
       "      <td>...</td>\n",
       "      <td>...</td>\n",
       "      <td>...</td>\n",
       "      <td>...</td>\n",
       "      <td>...</td>\n",
       "      <td>...</td>\n",
       "      <td>...</td>\n",
       "      <td>...</td>\n",
       "      <td>...</td>\n",
       "      <td>...</td>\n",
       "      <td>...</td>\n",
       "    </tr>\n",
       "    <tr>\n",
       "      <th>564</th>\n",
       "      <td>21.56</td>\n",
       "      <td>22.39</td>\n",
       "      <td>142.00</td>\n",
       "      <td>1479.0</td>\n",
       "      <td>0.11100</td>\n",
       "      <td>0.11590</td>\n",
       "      <td>0.24390</td>\n",
       "      <td>0.13890</td>\n",
       "      <td>0.1726</td>\n",
       "      <td>0.05623</td>\n",
       "      <td>...</td>\n",
       "      <td>26.40</td>\n",
       "      <td>166.10</td>\n",
       "      <td>2027.0</td>\n",
       "      <td>0.14100</td>\n",
       "      <td>0.21130</td>\n",
       "      <td>0.4107</td>\n",
       "      <td>0.2216</td>\n",
       "      <td>0.2060</td>\n",
       "      <td>0.07115</td>\n",
       "      <td>0</td>\n",
       "    </tr>\n",
       "    <tr>\n",
       "      <th>565</th>\n",
       "      <td>20.13</td>\n",
       "      <td>28.25</td>\n",
       "      <td>131.20</td>\n",
       "      <td>1261.0</td>\n",
       "      <td>0.09780</td>\n",
       "      <td>0.10340</td>\n",
       "      <td>0.14400</td>\n",
       "      <td>0.09791</td>\n",
       "      <td>0.1752</td>\n",
       "      <td>0.05533</td>\n",
       "      <td>...</td>\n",
       "      <td>38.25</td>\n",
       "      <td>155.00</td>\n",
       "      <td>1731.0</td>\n",
       "      <td>0.11660</td>\n",
       "      <td>0.19220</td>\n",
       "      <td>0.3215</td>\n",
       "      <td>0.1628</td>\n",
       "      <td>0.2572</td>\n",
       "      <td>0.06637</td>\n",
       "      <td>0</td>\n",
       "    </tr>\n",
       "    <tr>\n",
       "      <th>566</th>\n",
       "      <td>16.60</td>\n",
       "      <td>28.08</td>\n",
       "      <td>108.30</td>\n",
       "      <td>858.1</td>\n",
       "      <td>0.08455</td>\n",
       "      <td>0.10230</td>\n",
       "      <td>0.09251</td>\n",
       "      <td>0.05302</td>\n",
       "      <td>0.1590</td>\n",
       "      <td>0.05648</td>\n",
       "      <td>...</td>\n",
       "      <td>34.12</td>\n",
       "      <td>126.70</td>\n",
       "      <td>1124.0</td>\n",
       "      <td>0.11390</td>\n",
       "      <td>0.30940</td>\n",
       "      <td>0.3403</td>\n",
       "      <td>0.1418</td>\n",
       "      <td>0.2218</td>\n",
       "      <td>0.07820</td>\n",
       "      <td>0</td>\n",
       "    </tr>\n",
       "    <tr>\n",
       "      <th>567</th>\n",
       "      <td>20.60</td>\n",
       "      <td>29.33</td>\n",
       "      <td>140.10</td>\n",
       "      <td>1265.0</td>\n",
       "      <td>0.11780</td>\n",
       "      <td>0.27700</td>\n",
       "      <td>0.35140</td>\n",
       "      <td>0.15200</td>\n",
       "      <td>0.2397</td>\n",
       "      <td>0.07016</td>\n",
       "      <td>...</td>\n",
       "      <td>39.42</td>\n",
       "      <td>184.60</td>\n",
       "      <td>1821.0</td>\n",
       "      <td>0.16500</td>\n",
       "      <td>0.86810</td>\n",
       "      <td>0.9387</td>\n",
       "      <td>0.2650</td>\n",
       "      <td>0.4087</td>\n",
       "      <td>0.12400</td>\n",
       "      <td>0</td>\n",
       "    </tr>\n",
       "    <tr>\n",
       "      <th>568</th>\n",
       "      <td>7.76</td>\n",
       "      <td>24.54</td>\n",
       "      <td>47.92</td>\n",
       "      <td>181.0</td>\n",
       "      <td>0.05263</td>\n",
       "      <td>0.04362</td>\n",
       "      <td>0.00000</td>\n",
       "      <td>0.00000</td>\n",
       "      <td>0.1587</td>\n",
       "      <td>0.05884</td>\n",
       "      <td>...</td>\n",
       "      <td>30.37</td>\n",
       "      <td>59.16</td>\n",
       "      <td>268.6</td>\n",
       "      <td>0.08996</td>\n",
       "      <td>0.06444</td>\n",
       "      <td>0.0000</td>\n",
       "      <td>0.0000</td>\n",
       "      <td>0.2871</td>\n",
       "      <td>0.07039</td>\n",
       "      <td>1</td>\n",
       "    </tr>\n",
       "  </tbody>\n",
       "</table>\n",
       "<p>569 rows × 31 columns</p>\n",
       "</div>"
      ],
      "text/plain": [
       "     mean radius  mean texture  mean perimeter  mean area  mean smoothness  \\\n",
       "0          17.99         10.38          122.80     1001.0          0.11840   \n",
       "1          20.57         17.77          132.90     1326.0          0.08474   \n",
       "2          19.69         21.25          130.00     1203.0          0.10960   \n",
       "3          11.42         20.38           77.58      386.1          0.14250   \n",
       "4          20.29         14.34          135.10     1297.0          0.10030   \n",
       "..           ...           ...             ...        ...              ...   \n",
       "564        21.56         22.39          142.00     1479.0          0.11100   \n",
       "565        20.13         28.25          131.20     1261.0          0.09780   \n",
       "566        16.60         28.08          108.30      858.1          0.08455   \n",
       "567        20.60         29.33          140.10     1265.0          0.11780   \n",
       "568         7.76         24.54           47.92      181.0          0.05263   \n",
       "\n",
       "     mean compactness  mean concavity  mean concave points  mean symmetry  \\\n",
       "0             0.27760         0.30010              0.14710         0.2419   \n",
       "1             0.07864         0.08690              0.07017         0.1812   \n",
       "2             0.15990         0.19740              0.12790         0.2069   \n",
       "3             0.28390         0.24140              0.10520         0.2597   \n",
       "4             0.13280         0.19800              0.10430         0.1809   \n",
       "..                ...             ...                  ...            ...   \n",
       "564           0.11590         0.24390              0.13890         0.1726   \n",
       "565           0.10340         0.14400              0.09791         0.1752   \n",
       "566           0.10230         0.09251              0.05302         0.1590   \n",
       "567           0.27700         0.35140              0.15200         0.2397   \n",
       "568           0.04362         0.00000              0.00000         0.1587   \n",
       "\n",
       "     mean fractal dimension  ...  worst texture  worst perimeter  worst area  \\\n",
       "0                   0.07871  ...          17.33           184.60      2019.0   \n",
       "1                   0.05667  ...          23.41           158.80      1956.0   \n",
       "2                   0.05999  ...          25.53           152.50      1709.0   \n",
       "3                   0.09744  ...          26.50            98.87       567.7   \n",
       "4                   0.05883  ...          16.67           152.20      1575.0   \n",
       "..                      ...  ...            ...              ...         ...   \n",
       "564                 0.05623  ...          26.40           166.10      2027.0   \n",
       "565                 0.05533  ...          38.25           155.00      1731.0   \n",
       "566                 0.05648  ...          34.12           126.70      1124.0   \n",
       "567                 0.07016  ...          39.42           184.60      1821.0   \n",
       "568                 0.05884  ...          30.37            59.16       268.6   \n",
       "\n",
       "     worst smoothness  worst compactness  worst concavity  \\\n",
       "0             0.16220            0.66560           0.7119   \n",
       "1             0.12380            0.18660           0.2416   \n",
       "2             0.14440            0.42450           0.4504   \n",
       "3             0.20980            0.86630           0.6869   \n",
       "4             0.13740            0.20500           0.4000   \n",
       "..                ...                ...              ...   \n",
       "564           0.14100            0.21130           0.4107   \n",
       "565           0.11660            0.19220           0.3215   \n",
       "566           0.11390            0.30940           0.3403   \n",
       "567           0.16500            0.86810           0.9387   \n",
       "568           0.08996            0.06444           0.0000   \n",
       "\n",
       "     worst concave points  worst symmetry  worst fractal dimension  target  \n",
       "0                  0.2654          0.4601                  0.11890       0  \n",
       "1                  0.1860          0.2750                  0.08902       0  \n",
       "2                  0.2430          0.3613                  0.08758       0  \n",
       "3                  0.2575          0.6638                  0.17300       0  \n",
       "4                  0.1625          0.2364                  0.07678       0  \n",
       "..                    ...             ...                      ...     ...  \n",
       "564                0.2216          0.2060                  0.07115       0  \n",
       "565                0.1628          0.2572                  0.06637       0  \n",
       "566                0.1418          0.2218                  0.07820       0  \n",
       "567                0.2650          0.4087                  0.12400       0  \n",
       "568                0.0000          0.2871                  0.07039       1  \n",
       "\n",
       "[569 rows x 31 columns]"
      ]
     },
     "execution_count": 2,
     "metadata": {},
     "output_type": "execute_result"
    }
   ],
   "source": [
    "# Breast Cancer Wisconsin\n",
    "dataset = load_breast_cancer()\n",
    "type(dataset)  # Bunch\n",
    "dataset.data.shape   # (569, 30)\n",
    "dataset.target.shape # (569,) , 0: 악성(malignant), 1: 양성(benign)\n",
    "\n",
    "x_features = dataset.data # X , 피쳐\n",
    "y_label = dataset.target  # Y , 레이블\n",
    "\n",
    "cancer_df = pd.DataFrame(data=x_features,columns=dataset.feature_names)\n",
    "cancer_df['target'] = y_label\n",
    "cancer_df"
   ]
  },
  {
   "cell_type": "code",
   "execution_count": 3,
   "id": "982d123c",
   "metadata": {},
   "outputs": [
    {
     "name": "stdout",
     "output_type": "stream",
     "text": [
      "['malignant' 'benign']\n",
      "1    357\n",
      "0    212\n",
      "Name: target, dtype: int64\n",
      "(455, 30)\n",
      "(114, 30)\n"
     ]
    }
   ],
   "source": [
    "print(dataset.target_names)\n",
    "print(cancer_df['target'].value_counts())\n",
    "\n",
    "# train(80%):test(20%) 로 데이터 분리\n",
    "X_train,X_test,y_train,y_test = train_test_split(x_features,y_label,\n",
    "                                                test_size=0.2,\n",
    "                                                random_state=0)\n",
    "print(X_train.shape) # (455, 30)\n",
    "print(X_test.shape)  # (114, 30)\n",
    "# type(X_train)      # ndarray"
   ]
  },
  {
   "cell_type": "code",
   "execution_count": 4,
   "id": "76047bad",
   "metadata": {},
   "outputs": [
    {
     "data": {
      "text/plain": [
       "'RandomForestClassifier() 파라메터 설명'"
      ]
     },
     "execution_count": 4,
     "metadata": {},
     "output_type": "execute_result"
    }
   ],
   "source": [
    "'RandomForestClassifier() 파라메터 설명'\n",
    "# RandomForestClassifier(\n",
    "#     n_estimators=100, (결정트리의 갯수, default=100, 많을 수록 좋은 성능을 기대할수 있지만 속도가 느려진다)\n",
    "#     criterion='gini',\n",
    "#     max_depth=None,   (트리의 최대 깊이, 결정트리의 파라메터와 동일)\n",
    "#     min_samples_split=2,(노드를 분할하기 위한 최소한의 샘플 수,default=2,과적합 제어에 사용,결정트리의 파라메터와 동일)\n",
    "#     min_samples_leaf=1,(leaf 노드가 되기 위한 최소한의 샘플 수,default=1,결정트리의 파라메터와 동일)\n",
    "#     min_weight_fraction_leaf=0.0,\n",
    "#     max_features='auto', (최적의 분할을 위해 고려할 최대 피쳐 갯수,결정트리의 파라메터와 동일)\n",
    "#     max_leaf_nodes=None, (리프노드의 최대 갯수, 결정트리의 파라메터와 동일)\n",
    "#     min_impurity_decrease=0.0,\n",
    "#     min_impurity_split=None,\n",
    "#     bootstrap=True,\n",
    "#     oob_score=False,\n",
    "#     n_jobs=None,      (병렬처리 CPU의 갯수, -1이면 전체 CPU 모두 사용)\n",
    "#     random_state=None,(랜덤 seed 설정 값)\n",
    "#     verbose=0,\n",
    "#     warm_start=False,\n",
    "#     class_weight=None,\n",
    "# )"
   ]
  },
  {
   "cell_type": "code",
   "execution_count": 18,
   "id": "b1328786",
   "metadata": {},
   "outputs": [
    {
     "name": "stdout",
     "output_type": "stream",
     "text": [
      "정확도: 0.9649122807017544\n",
      "roc_auc: 0.9637980311209908\n"
     ]
    }
   ],
   "source": [
    "# from sklearn.ensemble import RandomForestClassifier\n",
    "\n",
    "# 학습\n",
    "clf = RandomForestClassifier(n_estimators=100,random_state=10,n_jobs=-1)\n",
    "clf.fit(X_train,y_train)\n",
    "\n",
    "# 예측\n",
    "pred = clf.predict(X_test)\n",
    "\n",
    "# 정확도 측정\n",
    "ac_score = metrics.accuracy_score(y_test,pred)\n",
    "print('정확도:',ac_score)  # 0.9649122807017544\n",
    "\n",
    "roc_auc = metrics.roc_auc_score(y_test,pred)\n",
    "print('roc_auc:',roc_auc)  # 0.9637980311209908"
   ]
  },
  {
   "cell_type": "code",
   "execution_count": 20,
   "id": "2119dffe",
   "metadata": {},
   "outputs": [
    {
     "name": "stdout",
     "output_type": "stream",
     "text": [
      "100\n"
     ]
    }
   ],
   "source": [
    "print(len(clf.estimators_) ) #  100개의 DecisionTreeClassifier\n",
    "# clf.estimators_"
   ]
  },
  {
   "cell_type": "markdown",
   "id": "6c1514f1",
   "metadata": {},
   "source": [
    "### Boosting\n",
    " 여러 개의 약한 학습기(분류기)가 순차적으로 학습,예측 하면서 잘못 예측한 데이터에 가중치를 부여하여 오류를 개선해 나가는 학습 방법<br>\n",
    "XGBoost(Kaggle 대회 상위 석권), LightGBM(속도 빠름)\n",
    "* (1) AdaBoost(Adaptive Boosting) : 개별 약한 학습기에 순차적으로 가중치를 부여해 결합하여 예측\n",
    "* (2) GBM(Gradient Boost Machine) : 에이다 부스트와 유사하나 가중치를 경사하강법(Gradient Descent)을 사용하여 구한다\n",
    "\n",
    " https://roytravel.tistory.com/52"
   ]
  },
  {
   "cell_type": "markdown",
   "id": "73b4c46c",
   "metadata": {},
   "source": [
    "### XGBoost (eXtra Gradient Boost)\n",
    ":일반 GBM보다 속도가 빠름, 자체 과적합 규제 기능으로 과적합에 강하다.\n",
    "<br>\n",
    "Tree Pruning(나무 가지치기)으로 긍정 이득이 없는 분할을 가지치기해서 분할 수를 줄임\n",
    "<br>\n",
    "Early Stopping(조기 중단) 기능으로 오차가 줄지 않을 경우 실제 estimators 갯수만큼 학습하지 않고 학습을 중단\n",
    "<br>\n",
    "원래는 C/C++ 용 라이브러리인데 XGBoost 개발 그룹에서 나중에 파이썬용 사이킷런용 제공"
   ]
  },
  {
   "cell_type": "code",
   "execution_count": 21,
   "id": "d5567600",
   "metadata": {},
   "outputs": [],
   "source": [
    "# from sklearn.ensemble import GradientBoostingClassifier # 일반 GBM"
   ]
  },
  {
   "cell_type": "code",
   "execution_count": 24,
   "id": "3873a3ec",
   "metadata": {},
   "outputs": [],
   "source": [
    "# !pip install xgboost"
   ]
  },
  {
   "cell_type": "code",
   "execution_count": 32,
   "id": "24f412eb",
   "metadata": {},
   "outputs": [
    {
     "name": "stderr",
     "output_type": "stream",
     "text": [
      "C:\\Users\\storm\\anaconda3\\envs\\tf210\\lib\\site-packages\\xgboost\\sklearn.py:835: UserWarning: `eval_metric` in `fit` method is deprecated for better compatibility with scikit-learn, use `eval_metric` in constructor or`set_params` instead.\n",
      "  warnings.warn(\n",
      "C:\\Users\\storm\\anaconda3\\envs\\tf210\\lib\\site-packages\\xgboost\\sklearn.py:835: UserWarning: `early_stopping_rounds` in `fit` method is deprecated for better compatibility with scikit-learn, use `early_stopping_rounds` in constructor or`set_params` instead.\n",
      "  warnings.warn(\n"
     ]
    },
    {
     "name": "stdout",
     "output_type": "stream",
     "text": [
      "정확도: 0.9736842105263158\n",
      "roc_auc: 0.971260717688155\n"
     ]
    }
   ],
   "source": [
    "from xgboost import XGBClassifier\n",
    "\n",
    "evals = [(X_test,y_test)]\n",
    "\n",
    "xgb = XGBClassifier(n_estimators=400,learning_rate=0.1,max_depth=3)\n",
    "\n",
    "# 학습\n",
    "xgb.fit(X_train,y_train,early_stopping_rounds=10,eval_set=evals,\n",
    "               eval_metric='logloss', verbose=False)\n",
    "# 예측\n",
    "pred = xgb.predict(X_test)\n",
    "\n",
    "# 정확도 측정\n",
    "ac_score = metrics.accuracy_score(y_test,pred)\n",
    "print('정확도:',ac_score)  # 0.9736842105263158\n",
    "\n",
    "roc_auc = metrics.roc_auc_score(y_test,pred)\n",
    "print('roc_auc:',roc_auc)  # 0.971260717688155"
   ]
  },
  {
   "cell_type": "markdown",
   "id": "74ec4801",
   "metadata": {},
   "source": [
    "### LightGBM\n",
    "Microsoft 사 제공 <br>\n",
    "부스팅, XGBoost보다 속도가 빠르다, 메모리 사용량이 적다, 사이킷런 래퍼 제공 <br>\n",
    "적은 데이터 세트에서 과적합이 발생할수 있다, 10000 이상의 데이터세트에 적당"
   ]
  },
  {
   "cell_type": "code",
   "execution_count": 35,
   "id": "c0920541",
   "metadata": {},
   "outputs": [],
   "source": [
    "# lightgbm 모듈 설치\n",
    "# ! pip install lightgbm"
   ]
  },
  {
   "cell_type": "code",
   "execution_count": 34,
   "id": "9092d11b",
   "metadata": {},
   "outputs": [
    {
     "data": {
      "text/plain": [
       "'3.3.5'"
      ]
     },
     "execution_count": 34,
     "metadata": {},
     "output_type": "execute_result"
    }
   ],
   "source": [
    "import lightgbm\n",
    "lightgbm.__version__"
   ]
  },
  {
   "cell_type": "code",
   "execution_count": 38,
   "id": "0785e1b1",
   "metadata": {},
   "outputs": [
    {
     "name": "stderr",
     "output_type": "stream",
     "text": [
      "C:\\Users\\storm\\anaconda3\\envs\\tf210\\lib\\site-packages\\lightgbm\\sklearn.py:726: UserWarning: 'early_stopping_rounds' argument is deprecated and will be removed in a future release of LightGBM. Pass 'early_stopping()' callback via 'callbacks' argument instead.\n",
      "  _log_warning(\"'early_stopping_rounds' argument is deprecated and will be removed in a future release of LightGBM. \"\n",
      "C:\\Users\\storm\\anaconda3\\envs\\tf210\\lib\\site-packages\\lightgbm\\sklearn.py:736: UserWarning: 'verbose' argument is deprecated and will be removed in a future release of LightGBM. Pass 'log_evaluation()' callback via 'callbacks' argument instead.\n",
      "  _log_warning(\"'verbose' argument is deprecated and will be removed in a future release of LightGBM. \"\n"
     ]
    },
    {
     "name": "stdout",
     "output_type": "stream",
     "text": [
      "정확도: 0.9649122807017544\n",
      "roc_auc: 0.9606224198158145\n"
     ]
    }
   ],
   "source": [
    "from lightgbm import LGBMClassifier\n",
    "evals = [(X_test,y_test)]\n",
    "\n",
    "lgbm = LGBMClassifier(n_estimators=400,learning_rate=0.1,max_depth=3)\n",
    "\n",
    "# 학습\n",
    "lgbm.fit(X_train,y_train,early_stopping_rounds=100,eval_set=evals,\n",
    "               eval_metric='logloss', verbose=False)\n",
    "# 예측\n",
    "pred = lgbm.predict(X_test)\n",
    "\n",
    "# 정확도 측정\n",
    "ac_score = metrics.accuracy_score(y_test,pred)\n",
    "print('정확도:',ac_score)  # 0.9649122807017544\n",
    "\n",
    "roc_auc = metrics.roc_auc_score(y_test,pred)\n",
    "print('roc_auc:',roc_auc)  # 0.9606224198158145"
   ]
  },
  {
   "cell_type": "markdown",
   "id": "0096d0bd",
   "metadata": {},
   "source": [
    "### 앙상블 모델이 아닌 sklearn의 분류기"
   ]
  },
  {
   "cell_type": "markdown",
   "id": "c6e3561a",
   "metadata": {},
   "source": [
    "### SVM(support Vector Machine)"
   ]
  },
  {
   "cell_type": "code",
   "execution_count": 39,
   "id": "2bb0b073",
   "metadata": {},
   "outputs": [
    {
     "name": "stdout",
     "output_type": "stream",
     "text": [
      "정확도: 0.956140350877193\n",
      "roc_auc: 0.9595109558590028\n"
     ]
    }
   ],
   "source": [
    "from sklearn import svm\n",
    "\n",
    "clf = svm.SVC(kernel='linear')\n",
    "clf.fit(X_train,y_train)\n",
    "\n",
    "# 예측\n",
    "pred = clf.predict(X_test)\n",
    "\n",
    "# 정확도 측정\n",
    "ac_score = metrics.accuracy_score(y_test,pred)\n",
    "print('정확도:',ac_score) \n",
    "\n",
    "roc_auc = metrics.roc_auc_score(y_test,pred)\n",
    "print('roc_auc:',roc_auc) "
   ]
  },
  {
   "cell_type": "markdown",
   "id": "e4e72aca",
   "metadata": {},
   "source": [
    "### K-Nearest Neighbors(KNN)"
   ]
  },
  {
   "cell_type": "code",
   "execution_count": 40,
   "id": "6be39ce7",
   "metadata": {},
   "outputs": [
    {
     "name": "stdout",
     "output_type": "stream",
     "text": [
      "정확도: 0.9385964912280702\n",
      "roc_auc: 0.938234360114322\n"
     ]
    }
   ],
   "source": [
    "from sklearn.neighbors import KNeighborsClassifier\n",
    "\n",
    "clf = KNeighborsClassifier()\n",
    "clf.fit(X_train,y_train)\n",
    "\n",
    "# 예측\n",
    "pred = clf.predict(X_test)\n",
    "\n",
    "# 정확도 측정\n",
    "ac_score = metrics.accuracy_score(y_test,pred)\n",
    "print('정확도:',ac_score) \n",
    "\n",
    "roc_auc = metrics.roc_auc_score(y_test,pred)\n",
    "print('roc_auc:',roc_auc)"
   ]
  },
  {
   "cell_type": "markdown",
   "id": "d822d8de",
   "metadata": {},
   "source": [
    "### Naive Bayes"
   ]
  },
  {
   "cell_type": "code",
   "execution_count": 41,
   "id": "1539f73e",
   "metadata": {},
   "outputs": [
    {
     "name": "stdout",
     "output_type": "stream",
     "text": [
      "정확도: 0.9298245614035088\n",
      "roc_auc: 0.9275960622419815\n"
     ]
    }
   ],
   "source": [
    "from sklearn.naive_bayes import GaussianNB\n",
    "\n",
    "clf = GaussianNB()\n",
    "clf.fit(X_train,y_train)\n",
    "\n",
    "# 예측\n",
    "pred = clf.predict(X_test)\n",
    "\n",
    "# 정확도 측정\n",
    "ac_score = metrics.accuracy_score(y_test,pred)\n",
    "print('정확도:',ac_score) \n",
    "\n",
    "roc_auc = metrics.roc_auc_score(y_test,pred)\n",
    "print('roc_auc:',roc_auc)"
   ]
  },
  {
   "cell_type": "markdown",
   "id": "b65133e6",
   "metadata": {},
   "source": [
    "### Multi-layer Perceptron(MLP) :  Neural Networks "
   ]
  },
  {
   "cell_type": "code",
   "execution_count": 42,
   "id": "6ec1810e",
   "metadata": {},
   "outputs": [
    {
     "name": "stdout",
     "output_type": "stream",
     "text": [
      "정확도: 0.9385964912280702\n",
      "roc_auc: 0.938234360114322\n"
     ]
    },
    {
     "name": "stderr",
     "output_type": "stream",
     "text": [
      "C:\\Users\\storm\\anaconda3\\envs\\tf210\\lib\\site-packages\\sklearn\\neural_network\\_multilayer_perceptron.py:541: ConvergenceWarning: lbfgs failed to converge (status=1):\n",
      "STOP: TOTAL NO. of ITERATIONS REACHED LIMIT.\n",
      "\n",
      "Increase the number of iterations (max_iter) or scale the data as shown in:\n",
      "    https://scikit-learn.org/stable/modules/preprocessing.html\n",
      "  self.n_iter_ = _check_optimize_result(\"lbfgs\", opt_res, self.max_iter)\n"
     ]
    }
   ],
   "source": [
    "from sklearn.neural_network import MLPClassifier\n",
    "\n",
    "clf = MLPClassifier(solver='lbfgs', alpha=1e-5,\n",
    "                    hidden_layer_sizes=(10, 4), random_state=1)\n",
    "clf.fit(X_train,y_train)\n",
    "\n",
    "# 예측\n",
    "pred = clf.predict(X_test)\n",
    "\n",
    "# 정확도 측정\n",
    "ac_score = metrics.accuracy_score(y_test,pred)\n",
    "print('정확도:',ac_score) \n",
    "\n",
    "roc_auc = metrics.roc_auc_score(y_test,pred)\n",
    "print('roc_auc:',roc_auc)  "
   ]
  },
  {
   "cell_type": "code",
   "execution_count": null,
   "id": "cbb26830",
   "metadata": {},
   "outputs": [],
   "source": []
  }
 ],
 "metadata": {
  "kernelspec": {
   "display_name": "Python 3 (ipykernel)",
   "language": "python",
   "name": "python3"
  },
  "language_info": {
   "codemirror_mode": {
    "name": "ipython",
    "version": 3
   },
   "file_extension": ".py",
   "mimetype": "text/x-python",
   "name": "python",
   "nbconvert_exporter": "python",
   "pygments_lexer": "ipython3",
   "version": "3.9.16"
  }
 },
 "nbformat": 4,
 "nbformat_minor": 5
}
