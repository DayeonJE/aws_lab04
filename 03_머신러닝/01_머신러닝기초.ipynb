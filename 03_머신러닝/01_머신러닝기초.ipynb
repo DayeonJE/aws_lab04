{
 "cells": [
  {
   "cell_type": "markdown",
   "id": "b0cc21ea",
   "metadata": {},
   "source": [
    "### 머신러닝 분류\n",
    "\n",
    "#### [1] 지도학습(Supervised Learning) : 답이 주어진 상태에서 학습\n",
    "* 회귀(Regression)\n",
    "* 분류(Classification)\n",
    "\n",
    "#### [2] 비지도학습(Unsupervised Learning) : 답이 주어지지 않고 학습\n",
    "* 군집화(Clustering)\n",
    "* 차원 축소(Dimension Reduction) : PCA(주성분 분석, Pricipal Component Analysis)\n",
    "\n",
    "#### [3] 강화 학습(Reinforcement Learning) : 답을 모르고 있는 상태에서 답을 알아가는 강한 인공지능(자아를 갖음, 인간수준), 게임, 알파고(DQN)"
   ]
  },
  {
   "cell_type": "markdown",
   "id": "33f8c419",
   "metadata": {},
   "source": [
    "### 퍼셉트론과 XOR Problem\n",
    "- 퍼셉트론 : 다수의 신호(흐름이 있는)를 입력으로 받아 하나의 신호를 출력한다\n",
    "- XOR Problem : 단층 퍼셉트론으로 XOR 출력을 얻도록 학습 불가"
   ]
  },
  {
   "cell_type": "code",
   "execution_count": 10,
   "id": "62405c2d",
   "metadata": {},
   "outputs": [
    {
     "name": "stdout",
     "output_type": "stream",
     "text": [
      "0\n",
      "0\n",
      "0\n",
      "1\n"
     ]
    }
   ],
   "source": [
    "def AND(x1,x2):\n",
    "    w1,w2,theta = 0.5,0.5,0.5\n",
    "    tmp = w1*x1 + w2*x2\n",
    "    if tmp <= theta : # 임계값\n",
    "        return 0\n",
    "    elif tmp > theta:\n",
    "        return 1\n",
    "print(AND(0,0))    \n",
    "print(AND(0,1))    \n",
    "print(AND(1,0))        \n",
    "print(AND(1,1))        "
   ]
  },
  {
   "cell_type": "code",
   "execution_count": 11,
   "id": "87f6caf2",
   "metadata": {},
   "outputs": [
    {
     "name": "stdout",
     "output_type": "stream",
     "text": [
      "1\n",
      "1\n",
      "1\n",
      "0\n"
     ]
    }
   ],
   "source": [
    "def NAND(x1,x2):\n",
    "    w1,w2,theta = 0.5,0.5,0.5\n",
    "    tmp = w1*x1 + w2*x2\n",
    "    if tmp <= theta :  # 임계값\n",
    "        return 1\n",
    "    elif tmp > theta:\n",
    "        return 0\n",
    "\n",
    "print(NAND(0,0))    \n",
    "print(NAND(0,1))\n",
    "print(NAND(1,0))\n",
    "print(NAND(1,1))  "
   ]
  },
  {
   "cell_type": "code",
   "execution_count": 14,
   "id": "a30d2965",
   "metadata": {},
   "outputs": [
    {
     "name": "stdout",
     "output_type": "stream",
     "text": [
      "0\n",
      "1\n",
      "1\n",
      "1\n"
     ]
    }
   ],
   "source": [
    "def OR(x1,x2):\n",
    "    w1,w2,theta = 0.5,0.5,0.4\n",
    "    tmp = w1*x1 + w2*x2\n",
    "    if tmp <= theta :  # 임계값\n",
    "        return 0\n",
    "    elif tmp > theta:\n",
    "        return 1\n",
    "\n",
    "print(OR(0,0))    \n",
    "print(OR(0,1))\n",
    "print(OR(1,0))\n",
    "print(OR(1,1))  "
   ]
  },
  {
   "cell_type": "code",
   "execution_count": 15,
   "id": "4f9a9e42",
   "metadata": {},
   "outputs": [],
   "source": [
    "# 단층 퍼셉트론의 한계\n",
    "# XOR Problem : 아무리 학습시켜도 weight을 구할 수 가 없음\n",
    "# def XOR(x1,x2):\n",
    "#     w1,w2,theta = _,_,_\n",
    "#     tmp = w1*x1 + w2*x2\n",
    "#     if tmp <= theta :  # 임계값\n",
    "#         return 0\n",
    "#     elif tmp > theta:\n",
    "#         return 1\n",
    "\n",
    "# print(XOR(0,0))    # 0 \n",
    "# print(XOR(0,1))    # 1\n",
    "# print(XOR(1,0))    # 1\n",
    "# print(XOR(1,1))    # 0"
   ]
  },
  {
   "cell_type": "code",
   "execution_count": 16,
   "id": "9633aec2",
   "metadata": {},
   "outputs": [
    {
     "name": "stdout",
     "output_type": "stream",
     "text": [
      "0\n",
      "1\n",
      "1\n",
      "0\n"
     ]
    }
   ],
   "source": [
    "# XOR Problem 조건 --> 선형으로 해결  , abs()/sin()/exp()\n",
    "def XOR(x1,x2):\n",
    "    w1,w2,theta = 0.5,-0.5,0.4\n",
    "    tmp = abs(w1*x1 + w2*x2)\n",
    "    if tmp <= theta :  # 임계값\n",
    "        return 0\n",
    "    elif tmp > theta:\n",
    "        return 1\n",
    "\n",
    "print(XOR(0,0))    # 0 \n",
    "print(XOR(0,1))    # 1\n",
    "print(XOR(1,0))    # 1\n",
    "print(XOR(1,1))    # 0"
   ]
  },
  {
   "cell_type": "markdown",
   "id": "834c15f4",
   "metadata": {},
   "source": [
    "### Backpropagation : 1986년 제프리 힌튼(Geoffrey Hinton)\n",
    "샘플에 대한 신경망의 오차를 다시 출력층에서부터 입력층으로 거꾸로 전파시켜 각 층의 가중치(weight)를 계산하는 방법. 이를 통해 weight와 bias를 알맞게 학습할 수 있다¶"
   ]
  },
  {
   "cell_type": "markdown",
   "id": "f03fd47f",
   "metadata": {},
   "source": [
    "### 다층퍼셉트론(MLP)으로 XOR Problem 해결"
   ]
  },
  {
   "cell_type": "code",
   "execution_count": 17,
   "id": "83212e18",
   "metadata": {},
   "outputs": [
    {
     "name": "stdout",
     "output_type": "stream",
     "text": [
      "0\n",
      "1\n",
      "1\n",
      "0\n"
     ]
    }
   ],
   "source": [
    "# XOR Problem : 서로 다른 weight을 갖는 다층신경망을 사용하여 해결\n",
    "def XOR(x1,x2):\n",
    "    s1 = NAND(x1,x2)\n",
    "    s2 = OR(x1,x2)\n",
    "    y = AND(s1,s2)\n",
    "    return y\n",
    "\n",
    "print(XOR(0,0))    # 0 \n",
    "print(XOR(0,1))    # 1\n",
    "print(XOR(1,0))    # 1\n",
    "print(XOR(1,1))    # 0"
   ]
  },
  {
   "cell_type": "markdown",
   "id": "27ee9fd4",
   "metadata": {},
   "source": [
    "### 회귀(Regression)모델\n",
    "#### [1] 선형 회귀(Linear Regression) : 1차 함수, 직선의 방정식\n",
    "#### [2] 가중치(Weight) : 입력변수가 출력에 영향을 미치는 정도를 설정, 기울기 값 , 회귀 계수\n",
    "#### [3] 편향(Bias) : 기본 출력 값이 활성화 되는 정도를 설정, y 절편, 회귀 계수\n",
    "#### [4] 비용함수(Cost Function) : 2차 함수, 포물선의 방정식, (예측값 - 실제값)^2\n",
    "* cost(비용) = 오차 = 에러 = 손실(loss)\n",
    "* cost(W,b) = (H(x) - y)^2\n",
    "\n",
    "#### [5] 예측(가설,Hypothesis)함수: predict, H(x) : 예측값, y값:답,결정값,target,label, x:입력, 피쳐(feature)\n",
    "* H(X) = W*X + b\n",
    "\n",
    "#### [6] 경사 하강법(Gradient Descent Algorithm)\n",
    "#### : 비용(cost) 이 가장 작은 Weight(가중치) 값을 구하는 알고리즘"
   ]
  },
  {
   "cell_type": "code",
   "execution_count": 29,
   "id": "37b1d87a",
   "metadata": {},
   "outputs": [
    {
     "name": "stdout",
     "output_type": "stream",
     "text": [
      "w:-1,cost: 18.666666666666668\n",
      "w:0 ,cost: 4.666666666666667\n",
      "w:1 ,cost: 0.0\n",
      "w:2 ,cost: 4.666666666666667\n",
      "w:3 ,cost: 18.666666666666668\n"
     ]
    },
    {
     "data": {
      "image/png": "[encoded data removed]",
      "text/plain": [
       "<Figure size 640x480 with 1 Axes>"
      ]
     },
     "metadata": {},
     "output_type": "display_data"
    }
   ],
   "source": [
    "# 비용 함수의 구현\n",
    "import numpy as np\n",
    "import pandas as pd\n",
    "import matplotlib.pyplot as plt\n",
    "\n",
    "def cost(x,y,w):\n",
    "    c = 0\n",
    "    for k in range(len(x)):  \n",
    "        hx = w * x[k]               # 예측 함수(방정식)\n",
    "        loss = (hx - y[k])**2       # (예측값 - 실제값)^2\n",
    "        c += loss\n",
    "    return c/len(x)                 # 평균 제곱 오차\n",
    "\n",
    "x = [1,2,3]\n",
    "y = [1,2,3]\n",
    "\n",
    "print('w:-1,cost:',cost(x,y,-1))    # hx = [-1,-2,-3], cost: 18.666666666666668\n",
    "print('w:0 ,cost:',cost(x,y,0))     # hx = [0,0,0]    ,cost: 4.666666666666667\n",
    "print('w:1 ,cost:',cost(x,y,1))     # hx = [1,2,3]    ,cost: 0.0\n",
    "print('w:2 ,cost:',cost(x,y,2))     # hx = [2,4,6]    ,cost: 4.666666666666667\n",
    "print('w:3 ,cost:',cost(x,y,3))     # hx = [3,6,9]    ,cost: 18.666666666666668\n",
    "\n",
    "# 비용함수의 시각화 : x축은 weight, y축은 cost로 하는 2차 함수, 포물선의 방정식\n",
    "for k in range(-30,50):\n",
    "    w = k/10\n",
    "    c = cost(x,y,w)\n",
    "    plt.plot(w,c,'ro')\n",
    "\n",
    "plt.title(' ** Cost Function Graph')    \n",
    "plt.xlabel('weight')    \n",
    "plt.ylabel('cost')\n",
    "plt.grid()\n",
    "plt.show()       "
   ]
  },
  {
   "cell_type": "markdown",
   "id": "ee82a406",
   "metadata": {},
   "source": [
    "### 미분 : 순간 변화량, 기울기, x축으로 1만큼 움직였을 때 y축으로 움직인 거리\n",
    "#### 함수의 미분 공식 정리 :  f(x) = x^n   ====> f'(x) = n*x^(n-1)\n",
    "* y = 3            ===> y' = 0\n",
    "* y = 2*x          ===> y' = 2\n",
    "* y = x^2          ===> y' = 2*x\n",
    "* y = (x + 1)^2    ===> y' = 2**(x + 1) # y = x^2 + 2**x + 1  ===> 2**x + 2\n",
    "\n",
    "* 곱셈 공식 : (a + b)^2 = a^2 + 2**a**b + b^2"
   ]
  },
  {
   "cell_type": "code",
   "execution_count": 32,
   "id": "21e7db08",
   "metadata": {},
   "outputs": [
    {
     "name": "stdout",
     "output_type": "stream",
     "text": [
      "----------- start learning!!\n",
      "[000] cost: 321.6133333333334 old: 100 weight: 6.126666666666665\n",
      "[001] cost: 91.57176296296291 old: 321.6133333333334 weight: 4.060888888888888\n",
      "[002] cost: 26.13771627983537 old: 91.57176296296291 weight: 2.9591407407407404\n",
      "[003] cost: 7.525365223301324 old: 26.13771627983537 weight: 2.3715417283950613\n",
      "[004] cost: 2.231185367220522 old: 7.525365223301324 weight: 2.058155588477366\n",
      "[005] cost: 0.7252853192686527 old: 2.231185367220522 weight: 1.8910163138545952\n",
      "[006] cost: 0.2969404167401203 old: 0.7252853192686527 weight: 1.8018753673891175\n",
      "[007] cost: 0.17510008890978238 old: 0.2969404167401203 weight: 1.754333529274196\n",
      "[008] cost: 0.14044328454915292 old: 0.17510008890978238 weight: 1.7289778822795712\n",
      "[009] cost: 0.13058534908657382 old: 0.14044328454915292 weight: 1.7154548705491046\n",
      "[010] cost: 0.12778131411055135 old: 0.13058534908657382 weight: 1.7082425976261892\n",
      "[011] cost: 0.12698372193959387 old: 0.12778131411055135 weight: 1.704396052067301\n",
      "[012] cost: 0.12675685127763262 old: 0.12698372193959387 weight: 1.7023445611025605\n",
      "[013] cost: 0.1266923191782303 old: 0.12675685127763262 weight: 1.7012504325880322\n",
      "[014] cost: 0.126673963381067 old: 0.1266923191782303 weight: 1.7006668973802839\n",
      "[015] cost: 0.1266687421765406 old: 0.126673963381067 weight: 1.700355678602818\n",
      "[016] cost: 0.12666725703391982 old: 0.1266687421765406 weight: 1.7001896952548363\n",
      "[017] cost: 0.12666683459335212 old: 0.12666725703391982 weight: 1.7001011708025795\n",
      "[018] cost: 0.1266667144324794 old: 0.12666683459335212 weight: 1.7000539577613758\n",
      "[019] cost: 0.12666668025338676 old: 0.1266667144324794 weight: 1.7000287774727338\n",
      "[020] cost: 0.12666667053133376 old: 0.12666668025338676 weight: 1.700015347985458\n",
      "[021] cost: 0.1266666677659498 old: 0.12666667053133376 weight: 1.7000081855922444\n",
      "[022] cost: 0.12666666697935164 old: 0.1266666677659498 weight: 1.700004365649197\n",
      "[023] cost: 0.12666666675560823 old: 0.12666666697935164 weight: 1.7000023283462384\n",
      "[024] cost: 0.1266666666919657 old: 0.12666666675560823 weight: 1.7000012417846606\n",
      "[025] cost: 0.12666666667386275 old: 0.1266666666919657 weight: 1.7000006622851522\n",
      "[026] cost: 0.12666666666871365 old: 0.12666666667386275 weight: 1.700000353218748\n",
      "[027] cost: 0.12666666666724893 old: 0.12666666666871365 weight: 1.7000001883833322\n",
      "[028] cost: 0.12666666666683235 old: 0.12666666666724893 weight: 1.7000001004711105\n",
      "[029] cost: 0.1266666666667139 old: 0.12666666666683235 weight: 1.7000000535845923\n",
      "[030] cost: 0.12666666666668008 old: 0.1266666666667139 weight: 1.7000000285784493\n",
      "[031] cost: 0.1266666666666705 old: 0.12666666666668008 weight: 1.7000000152418397\n",
      "[032] cost: 0.12666666666666784 old: 0.1266666666666705 weight: 1.7000000081289812\n",
      "[033] cost: 0.12666666666666704 old: 0.12666666666666784 weight: 1.7000000043354566\n",
      "[034] cost: 0.12666666666666682 old: 0.12666666666666704 weight: 1.7000000023122435\n",
      "[035] cost: 0.12666666666666684 old: 0.12666666666666682 weight: 1.7000000012331966\n",
      "----------- end learning!!\n",
      "weight: 1.7000000012331966 train: 36 회\n"
     ]
    }
   ],
   "source": [
    "# 경사 하강법 알고리즘 함수 구현, 미분 적용\n",
    "def gradient_descent(x,y,w):\n",
    "    c = 0\n",
    "    for k in range(len(x)):\n",
    "        hx = w*x[k] \n",
    "        loss = (hx - y[k])*x[k]     # 곱하기 2를 생략한 비용함수의 미분\n",
    "        c += loss\n",
    "        # 비용함수의 미분 : cost(w) = (w*x[k] - y[k])^2 의 미분\n",
    "        # cost(w) = w^2 * x[k]^2 - 2*w*x[k]*y[k] + y[k]^2\n",
    "        # cost'(w) = 2*w*x[k]^2 - 2*x[k]*y[k] = 2*x[k]*(w*x[k] - y[k])\n",
    "        # =  2*x[k]*(hx - y[k])\n",
    "    return c/len(x)\n",
    "\n",
    "# x = [1,2,3]\n",
    "# y = [1.2,3.2,5.4]\n",
    "\n",
    "# 학습 시작(train,fit) 시작\n",
    "print('----------- start learning!!')\n",
    "w , old = 10, 100\n",
    "for k in range(1000):\n",
    "    c = cost(x,y,w)\n",
    "    grad = gradient_descent(x,y,w)\n",
    "    w -= 0.1*grad  # 0.1:학습율(learning rate),하이퍼 파라메터,가중치의 업데이트실행\n",
    "    print('[%03d]'%k,'cost:',c,'old:',old,'weight:',w)\n",
    "#   if c == old:  # cost의 변화가 없을 때\n",
    "    if c >= old and abs(c - old) < 1.0e-15: # cost가 1.0e-15값 보다도 더 줄지 않을 때\n",
    "        break\n",
    "    old = c\n",
    "print('----------- end learning!!')\n",
    "print('weight:',w,'train:',k+1,'회')"
   ]
  },
  {
   "cell_type": "code",
   "execution_count": null,
   "id": "41545dad",
   "metadata": {},
   "outputs": [],
   "source": []
  }
 ],
 "metadata": {
  "kernelspec": {
   "display_name": "Python 3 (ipykernel)",
   "language": "python",
   "name": "python3"
  },
  "language_info": {
   "codemirror_mode": {
    "name": "ipython",
    "version": 3
   },
   "file_extension": ".py",
   "mimetype": "text/x-python",
   "name": "python",
   "nbconvert_exporter": "python",
   "pygments_lexer": "ipython3",
   "version": "3.9.16"
  }
 },
 "nbformat": 4,
 "nbformat_minor": 5
}
