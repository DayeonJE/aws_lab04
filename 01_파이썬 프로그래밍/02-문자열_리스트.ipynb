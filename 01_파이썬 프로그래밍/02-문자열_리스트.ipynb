{
 "cells": [
  {
   "cell_type": "markdown",
   "id": "23de1a5c",
   "metadata": {},
   "source": [
    "### 문자열(string) : 불변형(immutable), 시퀀스형\n",
    "- 문자열은 요소를 수정할수 없는 자료형, 순서를 갖는 자료형 "
   ]
  },
  {
   "cell_type": "code",
   "execution_count": 1,
   "id": "8a785e6d",
   "metadata": {},
   "outputs": [
    {
     "name": "stdout",
     "output_type": "stream",
     "text": [
      "Hello Python\n",
      "<class 'str'>\n",
      "Good Bye\n",
      "<class 'str'>\n",
      "\n",
      "Desc : This is a test code!\n",
      "Date : 2021-09-09\n",
      "(C) copyright\n",
      "\n",
      "this is a 'double' quotation\n"
     ]
    }
   ],
   "source": [
    "str1 = 'Hello Python'\n",
    "print(str1)\n",
    "print(type(str1))  # <class 'str'>\n",
    "\n",
    "str2 = \"Good Bye\"\n",
    "print(str2)\n",
    "print(type(str2))\n",
    "\n",
    "# \\ 는 줄바꿈\n",
    "str3 = \\\n",
    "'''\n",
    "Desc : This is a test code!\n",
    "Date : 2021-09-09\n",
    "(C) copyright\n",
    "'''\n",
    "print(str3)\n",
    "\n",
    "str4 = \"this is a 'double' quotation\"\n",
    "print(str4)"
   ]
  },
  {
   "cell_type": "markdown",
   "id": "c37955fe",
   "metadata": {},
   "source": [
    "### 문자열의 indexing 과 slicing"
   ]
  },
  {
   "cell_type": "code",
   "execution_count": 2,
   "id": "6017e3c8",
   "metadata": {},
   "outputs": [
    {
     "name": "stdout",
     "output_type": "stream",
     "text": [
      "Life is too short, you need python\n",
      "L i f e   i t i L\n",
      "n o h\n",
      "n\n"
     ]
    }
   ],
   "source": [
    "# indexing : 문자열의 요소를 접근하는 방법, a[index] , 처음 0번으로 시작\n",
    "a = 'Life is too short, you need python'\n",
    "print(a)\n",
    "print(a[0],a[1],a[2],a[3],a[4],a[5],a[8],a[True],a[False]) # True ==> 1, False ==> 0\n",
    "print(a[-1],a[-2],a[-3])   # -1 맨 마지막 요소 , 뒤에서부터 인덱싱\n",
    "print(a[len(a) - 1])       # a[-1] 과 동일한 결과\n",
    "\n",
    "b = a[0]  # OK!!\n",
    "# a[0] = 'N'     # TypeError: 'str' object does not support item assignment\n",
    "                 # 불변형 데이터는 요소 수정이 불가"
   ]
  },
  {
   "cell_type": "code",
   "execution_count": 3,
   "id": "7fbeae3e",
   "metadata": {},
   "outputs": [
    {
     "name": "stdout",
     "output_type": "stream",
     "text": [
      "Lif\n",
      "Life is to\n",
      "o\n",
      "Life is too short, you need python\n",
      "too short, you need python\n",
      "Life is too short, you need pytho\n",
      "pytho\n",
      "Lesosr ue \n",
      "Lf stosot o edpto\n",
      "nohtyp deen uoy ,trohs oot si efiL\n"
     ]
    }
   ],
   "source": [
    "# slicing :    a[start:end + 1:step]   , start <= data < end + 1\n",
    "a = 'Life is too short, you need python'\n",
    "print(a[0:3])   # from 0 to (3 - 1)\n",
    "print(a[0:10])  # from 0 to (10 - 1)\n",
    "print(a[9:10])  # from 9 to (10 - 1)\n",
    "\n",
    "print(a[:])     # 처음 부터  끝까지 , print(a[0:34])와 동일한 결과\n",
    "print(a[8:])    # 8번 요소 부터  끝까지 , print(a[8:34])와 동일한 결과\n",
    "\n",
    "print(a[:-1])   # 마지막 문자만 제외\n",
    "print(a[-6:-1])\n",
    "\n",
    "print(a[:30:3]) # 처음 부터 29번 째 까지 3개의 간격으로 slicing\n",
    "print(a[::2])   # 처음 부터 끝까지 2개의 간격으로 slicing \n",
    "\n",
    "print(a[::-1])  # 전체 요소의 순서를 거꾸로 바꾼다\n",
    "\n",
    "b = a[:3]       # OK!!\n",
    "# a[:3] ='Nif'  # TypeError: 'str' object does not support item assignment\n",
    "                # 불변형 데이터는 요소 수정이 불가"
   ]
  },
  {
   "cell_type": "markdown",
   "id": "8bfa3fb3",
   "metadata": {},
   "source": [
    "### 문자열 연산자"
   ]
  },
  {
   "cell_type": "code",
   "execution_count": 4,
   "id": "3f821033",
   "metadata": {},
   "outputs": [
    {
     "data": {
      "text/plain": [
       "28"
      ]
     },
     "execution_count": 4,
     "metadata": {},
     "output_type": "execute_result"
    }
   ],
   "source": [
    "a.index('pyth')  # 문자 위치의 인덱스 값을 반환"
   ]
  },
  {
   "cell_type": "code",
   "execution_count": 5,
   "id": "f10e3419",
   "metadata": {},
   "outputs": [
    {
     "data": {
      "text/plain": [
       "['Life', 'is', 'too', 'short,', 'you', 'need', 'python']"
      ]
     },
     "execution_count": 5,
     "metadata": {},
     "output_type": "execute_result"
    }
   ],
   "source": [
    "a.split()  # 공백으로 분리하고 리스트로 반환"
   ]
  },
  {
   "cell_type": "code",
   "execution_count": 6,
   "id": "e81b1cac",
   "metadata": {
    "scrolled": true
   },
   "outputs": [
    {
     "data": {
      "text/plain": [
       "['__add__',\n",
       " '__class__',\n",
       " '__contains__',\n",
       " '__delattr__',\n",
       " '__dir__',\n",
       " '__doc__',\n",
       " '__eq__',\n",
       " '__format__',\n",
       " '__ge__',\n",
       " '__getattribute__',\n",
       " '__getitem__',\n",
       " '__getnewargs__',\n",
       " '__gt__',\n",
       " '__hash__',\n",
       " '__init__',\n",
       " '__init_subclass__',\n",
       " '__iter__',\n",
       " '__le__',\n",
       " '__len__',\n",
       " '__lt__',\n",
       " '__mod__',\n",
       " '__mul__',\n",
       " '__ne__',\n",
       " '__new__',\n",
       " '__reduce__',\n",
       " '__reduce_ex__',\n",
       " '__repr__',\n",
       " '__rmod__',\n",
       " '__rmul__',\n",
       " '__setattr__',\n",
       " '__sizeof__',\n",
       " '__str__',\n",
       " '__subclasshook__',\n",
       " 'capitalize',\n",
       " 'casefold',\n",
       " 'center',\n",
       " 'count',\n",
       " 'encode',\n",
       " 'endswith',\n",
       " 'expandtabs',\n",
       " 'find',\n",
       " 'format',\n",
       " 'format_map',\n",
       " 'index',\n",
       " 'isalnum',\n",
       " 'isalpha',\n",
       " 'isascii',\n",
       " 'isdecimal',\n",
       " 'isdigit',\n",
       " 'isidentifier',\n",
       " 'islower',\n",
       " 'isnumeric',\n",
       " 'isprintable',\n",
       " 'isspace',\n",
       " 'istitle',\n",
       " 'isupper',\n",
       " 'join',\n",
       " 'ljust',\n",
       " 'lower',\n",
       " 'lstrip',\n",
       " 'maketrans',\n",
       " 'partition',\n",
       " 'removeprefix',\n",
       " 'removesuffix',\n",
       " 'replace',\n",
       " 'rfind',\n",
       " 'rindex',\n",
       " 'rjust',\n",
       " 'rpartition',\n",
       " 'rsplit',\n",
       " 'rstrip',\n",
       " 'split',\n",
       " 'splitlines',\n",
       " 'startswith',\n",
       " 'strip',\n",
       " 'swapcase',\n",
       " 'title',\n",
       " 'translate',\n",
       " 'upper',\n",
       " 'zfill']"
      ]
     },
     "execution_count": 6,
     "metadata": {},
     "output_type": "execute_result"
    }
   ],
   "source": [
    "dir(a)  # str class가 지원하는 메서드(함수)를 출력"
   ]
  },
  {
   "cell_type": "code",
   "execution_count": 7,
   "id": "bab967bb",
   "metadata": {},
   "outputs": [
    {
     "name": "stdout",
     "output_type": "stream",
     "text": [
      "ㄱㄴㄷㄹㅁㅂㅅㅇㅈㅊㅋㅌㅍㅎㅏㅔㅣㅗㅜ\n",
      "gndrmbs_jcktphaeiou\n",
      "{12593: 103, 12596: 110, 12599: 100, 12601: 114, 12609: 109, 12610: 98, 12613: 115, 12615: 95, 12616: 106, 12618: 99, 12619: 107, 12620: 116, 12621: 112, 12622: 104, 12623: 97, 12628: 101, 12643: 105, 12631: 111, 12636: 117} <class 'dict'>\n",
      "miri_oja\n",
      "ganibabo\n"
     ]
    }
   ],
   "source": [
    "# maketrans()/translate() 함수\n",
    "# 문자열을 mapping 하여 변환된 결과를 반환\n",
    "a = 'ㄱㄴㄷㄹㅁㅂㅅㅇㅈㅊㅋㅌㅍㅎ'   # 자음 \n",
    "b = 'ㅏㅔㅣㅗㅜ'                   # 모음\n",
    "c = 'gndrmbs_jcktph'\n",
    "d = 'aeiou'\n",
    "\n",
    "kor = a + b\n",
    "eng = c + d\n",
    "print(kor)\n",
    "print(eng)\n",
    "\n",
    "transtable = ''.maketrans(kor,eng)\n",
    "print(transtable,type(transtable))\n",
    "\n",
    "result = 'ㅁㅣㄹㅣㅇㅗㅈㅏ'.translate(transtable)\n",
    "print(result)\n",
    "\n",
    "result = 'ㄱㅏㄴㅣㅂㅏㅂㅗ'.translate(transtable)\n",
    "print(result)"
   ]
  },
  {
   "cell_type": "markdown",
   "id": "af2a5b2f",
   "metadata": {},
   "source": [
    "#### 리스트(list) : 가변형(mutable), 시퀀스, 가장 유용한 자료형, [ ] :대괄호, 중복 허용"
   ]
  },
  {
   "cell_type": "code",
   "execution_count": 8,
   "id": "448d0865",
   "metadata": {},
   "outputs": [
    {
     "name": "stdout",
     "output_type": "stream",
     "text": [
      "[1, 2, 3, 4, 5, 6]\n",
      "<class 'list'>\n",
      "['a', 'hello', 1, 3.5, [1, 2, 3, 4, 5, 6], 3.5, 1]\n"
     ]
    }
   ],
   "source": [
    "a = [1,2,3,4,5,6]\n",
    "print(a)\n",
    "print(type(a))\n",
    "\n",
    "b = ['a','hello',1,3.5,a,3.5,1]\n",
    "print(b)"
   ]
  },
  {
   "cell_type": "code",
   "execution_count": 9,
   "id": "352e4b26",
   "metadata": {},
   "outputs": [
    {
     "name": "stdout",
     "output_type": "stream",
     "text": [
      "1 2 3 4 6 5 2 1\n",
      "[10, 2, 3, 4, 5, 6]\n",
      "['hi', 2, 3, 4, 5, 6]\n",
      "['hello', 0, 0, 0]\n"
     ]
    }
   ],
   "source": [
    "# 인덱싱\n",
    "a = [1,2,3,4,5,6]\n",
    "print(a[0],a[1],a[2],a[3],a[-1],a[-2],a[True],a[False])\n",
    "\n",
    "a[0] = 10    # 가변형이므로 요소 변경이 가능하다\n",
    "print(a)\n",
    "a[0] = 'hi'\n",
    "print(a)\n",
    "a =[0,0,0,0]\n",
    "a[0] = 'hello'\n",
    "print(a)"
   ]
  },
  {
   "cell_type": "code",
   "execution_count": 10,
   "id": "f82615f8",
   "metadata": {},
   "outputs": [
    {
     "name": "stdout",
     "output_type": "stream",
     "text": [
      "[1, 2, 3, 4, 5, 6]\n",
      "[2]\n",
      "2\n",
      "[1, 4]\n",
      "[6, 5, 4, 3, 2, 1]\n",
      "[1, 8, 9, 10, 4, 5, 6]\n"
     ]
    }
   ],
   "source": [
    "# 슬라이싱 : a[start:end+1:step]\n",
    "a = [1,2,3,4,5,6]\n",
    "print(a[:])\n",
    "print(a[1:2])  # from 1 to 1  , 리스트를 반환\n",
    "print(a[1])    # 요소 한개를 반환, 리스트가 아님, 정수를 반환 \n",
    "\n",
    "print(a[::3])  # step 을 3으로\n",
    "print(a[::-1]) # 요소의 순서를 거꾸로 변경한다\n",
    "\n",
    "a[1:3] = [8,9,10]   # 가변형이므로 요소 변경이 가능하다\n",
    "print(a)"
   ]
  },
  {
   "cell_type": "code",
   "execution_count": null,
   "id": "5bfc15b9",
   "metadata": {},
   "outputs": [],
   "source": []
  }
 ],
 "metadata": {
  "kernelspec": {
   "display_name": "Python 3 (ipykernel)",
   "language": "python",
   "name": "python3"
  },
  "language_info": {
   "codemirror_mode": {
    "name": "ipython",
    "version": 3
   },
   "file_extension": ".py",
   "mimetype": "text/x-python",
   "name": "python",
   "nbconvert_exporter": "python",
   "pygments_lexer": "ipython3",
   "version": "3.9.16"
  }
 },
 "nbformat": 4,
 "nbformat_minor": 5
}
