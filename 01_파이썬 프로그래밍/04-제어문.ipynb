{
 "cells": [
  {
   "cell_type": "markdown",
   "id": "1435b866",
   "metadata": {},
   "source": [
    "### 제어문  : if문, for 문, while문, with ~ as 문"
   ]
  },
  {
   "cell_type": "markdown",
   "id": "487f5daa",
   "metadata": {},
   "source": [
    "### if문"
   ]
  },
  {
   "cell_type": "code",
   "execution_count": 1,
   "id": "78b01ba4",
   "metadata": {},
   "outputs": [
    {
     "name": "stdout",
     "output_type": "stream",
     "text": [
      "15\n",
      "++++++\n"
     ]
    }
   ],
   "source": [
    "a = 15\n",
    "\n",
    "if a == 10:\n",
    "    print('a = 10')\n",
    "    print('------')\n",
    "else:\n",
    "    print(a)\n",
    "    print('++++++')"
   ]
  },
  {
   "cell_type": "code",
   "execution_count": 2,
   "id": "45e8fcb4",
   "metadata": {},
   "outputs": [
    {
     "name": "stdout",
     "output_type": "stream",
     "text": [
      "order price: 5000\n"
     ]
    }
   ],
   "source": [
    "order = 'spagetti'\n",
    "\n",
    "if order == 'spagetti':\n",
    "    price = 5000\n",
    "elif order == 'spam':\n",
    "    price = 6000\n",
    "elif order =='egg':\n",
    "    price = 7000\n",
    "else:\n",
    "    price= 0\n",
    "\n",
    "print('order price: %d'%price) "
   ]
  },
  {
   "cell_type": "code",
   "execution_count": 3,
   "id": "10701df4",
   "metadata": {},
   "outputs": [
    {
     "name": "stdout",
     "output_type": "stream",
     "text": [
      "order price: 5000\n",
      "order price: 11000\n"
     ]
    }
   ],
   "source": [
    "# dict 사용\n",
    "order = {'spagetti':5000,'spam':6000,'egg':7000}\n",
    "print('order price: %d'%order['spagetti']) \n",
    "print('order price: %d'%(order['spagetti'] + order['spam'])) "
   ]
  },
  {
   "cell_type": "code",
   "execution_count": 4,
   "id": "35ce5762",
   "metadata": {},
   "outputs": [
    {
     "name": "stdout",
     "output_type": "stream",
     "text": [
      "20\n"
     ]
    }
   ],
   "source": [
    "# 전통 언어 스타일\n",
    "a = 10\n",
    "if a > 5:\n",
    "    x = a * 2\n",
    "else:\n",
    "    x = a / 2\n",
    "print(x)    "
   ]
  },
  {
   "cell_type": "code",
   "execution_count": 5,
   "id": "f6cbc1fe",
   "metadata": {},
   "outputs": [
    {
     "name": "stdout",
     "output_type": "stream",
     "text": [
      "20\n"
     ]
    }
   ],
   "source": [
    "# 파이썬 스타일\n",
    "a = 10\n",
    "x = a * 2 if a > 5 else a / 2\n",
    "print(x)"
   ]
  },
  {
   "cell_type": "code",
   "execution_count": 6,
   "id": "ae2e7971",
   "metadata": {},
   "outputs": [
    {
     "name": "stdout",
     "output_type": "stream",
     "text": [
      "20\n"
     ]
    }
   ],
   "source": [
    "# 파이썬 스타일\n",
    "a = 10\n",
    "t = (a/2,a*2)\n",
    "x = t[a > 5]   # True:1, False:0  , 조건식을 사용한 index\n",
    "print(x)"
   ]
  },
  {
   "cell_type": "code",
   "execution_count": 7,
   "id": "90193ee0",
   "metadata": {},
   "outputs": [
    {
     "name": "stdout",
     "output_type": "stream",
     "text": [
      "20\n"
     ]
    }
   ],
   "source": [
    "# 파이썬 스타일\n",
    "a = 10\n",
    "x = (a/2,a*2)[a > 5]   # True:1, False:0  , 조건식을 사용한 index\n",
    "print(x)"
   ]
  },
  {
   "cell_type": "code",
   "execution_count": 8,
   "id": "d9a59c94",
   "metadata": {},
   "outputs": [
    {
     "name": "stdout",
     "output_type": "stream",
     "text": [
      "짝\n"
     ]
    }
   ],
   "source": [
    "# 전통 언어 스타일\n",
    "a = 10\n",
    "if a % 2:\n",
    "    x = '홀수'\n",
    "else:\n",
    "    x = '짝수'\n",
    "print(x.strip('수')) "
   ]
  },
  {
   "cell_type": "code",
   "execution_count": 9,
   "id": "ddc828ce",
   "metadata": {},
   "outputs": [
    {
     "name": "stdout",
     "output_type": "stream",
     "text": [
      "짝\n"
     ]
    }
   ],
   "source": [
    "# 파이썬 스타일\n",
    "a = 10\n",
    "x = {False:'짝수',True:'홀수'}[a%2].strip('수')\n",
    "# x = ('짝수','홀수')[a%2].strip('수')\n",
    "print(x)"
   ]
  },
  {
   "cell_type": "markdown",
   "id": "827b0ccb",
   "metadata": {},
   "source": [
    "### for문"
   ]
  },
  {
   "cell_type": "code",
   "execution_count": 10,
   "id": "c77c21d6",
   "metadata": {},
   "outputs": [
    {
     "name": "stdout",
     "output_type": "stream",
     "text": [
      "0\n",
      "1\n",
      "2\n",
      "3\n",
      "4\n",
      "5\n",
      "6\n",
      "7\n",
      "8\n",
      "9\n"
     ]
    }
   ],
   "source": [
    "for k in range(10):\n",
    "    print(k)"
   ]
  },
  {
   "cell_type": "code",
   "execution_count": 11,
   "id": "edbd8a17",
   "metadata": {},
   "outputs": [
    {
     "name": "stdout",
     "output_type": "stream",
     "text": [
      "0\n",
      "1\n",
      "2\n",
      "3\n",
      "4\n",
      "5\n",
      "6\n",
      "7\n",
      "8\n",
      "9\n"
     ]
    }
   ],
   "source": [
    "l = [0,1,2,3,4,5,6,7,8,9]\n",
    "for k in l:        # for k in range(len(l))을 사용하지 않도록한다\n",
    "    print(k)       #         print(l[k])   을 사용하지 않도록한다"
   ]
  },
  {
   "cell_type": "code",
   "execution_count": 12,
   "id": "d3de6df0",
   "metadata": {},
   "outputs": [
    {
     "name": "stdout",
     "output_type": "stream",
     "text": [
      "0 cat\n",
      "1 dog\n",
      "2 bird\n",
      "3 pig\n",
      "4 tiger\n"
     ]
    }
   ],
   "source": [
    "l = ['cat','dog','bird','pig','tiger']\n",
    "for i,k in enumerate(l): # enumerate()함수:요소의 인덱스와 요소를 함께 튜플로 반환\n",
    "    print(i,k)"
   ]
  },
  {
   "cell_type": "code",
   "execution_count": 13,
   "id": "989abad9",
   "metadata": {},
   "outputs": [
    {
     "name": "stdout",
     "output_type": "stream",
     "text": [
      "3\n",
      "4\n",
      "5\n",
      "6\n",
      "7\n",
      "8\n",
      "9\n"
     ]
    }
   ],
   "source": [
    "# continue문 : for문으로 제어 흐름을 변경한다\n",
    "for x in range(10):\n",
    "    if x < 3:\n",
    "        continue    # for문 앞쪽으로 이동하여 나머지 코드가 실행되지 않음\n",
    "    print(x)"
   ]
  },
  {
   "cell_type": "code",
   "execution_count": 14,
   "id": "9cddd6b1",
   "metadata": {
    "scrolled": false
   },
   "outputs": [
    {
     "name": "stdout",
     "output_type": "stream",
     "text": [
      "0\n",
      "1\n",
      "2\n",
      "3\n",
      "4\n",
      "5\n"
     ]
    }
   ],
   "source": [
    "# break문 : for문의 루프에서 탈출\n",
    "for x in range(1000):\n",
    "    if x > 5:\n",
    "        break\n",
    "    print(x)"
   ]
  },
  {
   "cell_type": "code",
   "execution_count": 15,
   "id": "a08d8442",
   "metadata": {},
   "outputs": [
    {
     "name": "stdout",
     "output_type": "stream",
     "text": [
      "2 * 1 = 2\n",
      "2 * 2 = 4\n",
      "2 * 3 = 6\n",
      "2 * 4 = 8\n",
      "2 * 5 = 10\n",
      "2 * 6 = 12\n",
      "2 * 7 = 14\n",
      "2 * 8 = 16\n",
      "2 * 9 = 18\n",
      "--------------------\n",
      "3 * 1 = 3\n",
      "3 * 2 = 6\n",
      "3 * 3 = 9\n",
      "3 * 4 = 12\n",
      "3 * 5 = 15\n",
      "3 * 6 = 18\n",
      "3 * 7 = 21\n",
      "3 * 8 = 24\n",
      "3 * 9 = 27\n",
      "--------------------\n"
     ]
    }
   ],
   "source": [
    "# 중첩된 for문\n",
    "for x in range(2,4):\n",
    "    for y in range(1,10):\n",
    "        print(x,'*',y,'=',x*y)\n",
    "    print('-'*20)"
   ]
  },
  {
   "cell_type": "code",
   "execution_count": 16,
   "id": "711d6c7b",
   "metadata": {},
   "outputs": [
    {
     "name": "stdout",
     "output_type": "stream",
     "text": [
      "[(2, 1, 2), (2, 2, 4), (2, 3, 6), (2, 4, 8), (2, 5, 10), (2, 6, 12), (2, 7, 14), (2, 8, 16), (2, 9, 18), (3, 1, 3), (3, 2, 6), (3, 3, 9), (3, 4, 12), (3, 5, 15), (3, 6, 18), (3, 7, 21), (3, 8, 24), (3, 9, 27)]\n"
     ]
    }
   ],
   "source": [
    "# 중첩된 for문을 사용한 list comprehension\n",
    "a = [(x ,y,x*y) for x in range(2,4) for y in range(1,10) ]\n",
    "print(a)"
   ]
  },
  {
   "cell_type": "markdown",
   "id": "6698e216",
   "metadata": {},
   "source": [
    "### while문"
   ]
  },
  {
   "cell_type": "code",
   "execution_count": 17,
   "id": "f9836a80",
   "metadata": {},
   "outputs": [
    {
     "name": "stdout",
     "output_type": "stream",
     "text": [
      "0\n",
      "1\n",
      "2\n",
      "3\n",
      "4\n",
      "5\n",
      "6\n",
      "7\n",
      "8\n",
      "9\n"
     ]
    }
   ],
   "source": [
    "a = 0\n",
    "while True:         # 무한 루프\n",
    "    print(a)\n",
    "    a += 1\n",
    "    if a == 10:     # a가 10이면 무한 루프 탈출\n",
    "        break"
   ]
  },
  {
   "cell_type": "code",
   "execution_count": 18,
   "id": "b48b1b68",
   "metadata": {},
   "outputs": [
    {
     "name": "stdout",
     "output_type": "stream",
     "text": [
      "10\n",
      "11\n",
      "12\n",
      "13\n",
      "14\n",
      "15\n",
      "16\n",
      "17\n",
      "18\n",
      "19\n",
      "20\n"
     ]
    }
   ],
   "source": [
    "a = 0\n",
    "while True:      # 무한 루프\n",
    "    a += 1       # a = a + 1\n",
    "    \n",
    "    if a < 10:   # a < 10이면 continue\n",
    "        continue\n",
    "    \n",
    "    print(a)\n",
    "    \n",
    "    if a == 20:  # a가 20이면 무한 루프 탈출\n",
    "        break        "
   ]
  },
  {
   "cell_type": "code",
   "execution_count": 19,
   "id": "90473c0f",
   "metadata": {},
   "outputs": [
    {
     "name": "stdout",
     "output_type": "stream",
     "text": [
      "0\n",
      "1\n",
      "2\n",
      "3\n",
      "4\n",
      "5\n",
      "6\n",
      "7\n",
      "8\n",
      "9\n"
     ]
    }
   ],
   "source": [
    "a = 0\n",
    "while a < 10:  # 조건식이 참일 때만 반복한다\n",
    "    print(a)\n",
    "    a += 1"
   ]
  },
  {
   "cell_type": "markdown",
   "id": "735eee9e",
   "metadata": {},
   "source": [
    "### with ~ as문"
   ]
  },
  {
   "cell_type": "code",
   "execution_count": 20,
   "id": "177cf33a",
   "metadata": {},
   "outputs": [
    {
     "name": "stdout",
     "output_type": "stream",
     "text": [
      "1번째 줄입니다\n",
      "2번째 줄입니다\n",
      "3번째 줄입니다\n",
      "\n"
     ]
    }
   ],
   "source": [
    "# 저수준 파일 제어\n",
    "f = open('file.txt','w')  # 쓰기모드, 없으면 생성, 있으면 삭제해서 새로 생성\n",
    "f.write('1번째 줄입니다\\n')\n",
    "f.write('2번째 줄입니다\\n')\n",
    "f.write('3번째 줄입니다\\n')\n",
    "f.close()                 # file 객체를 소멸\n",
    "\n",
    "f = open('file.txt','r')  # 읽기 모드, file 객체를 생성\n",
    "data = f.read()\n",
    "print(data)\n",
    "f.close()"
   ]
  },
  {
   "cell_type": "code",
   "execution_count": 21,
   "id": "f094f6a8",
   "metadata": {},
   "outputs": [
    {
     "name": "stdout",
     "output_type": "stream",
     "text": [
      "1번째 줄입니다\n",
      "2번째 줄입니다\n",
      "3번째 줄입니다\n",
      "\n"
     ]
    }
   ],
   "source": [
    "with open('file.txt','w') as f:\n",
    "    f.write('1번째 줄입니다\\n')\n",
    "    f.write('2번째 줄입니다\\n')\n",
    "    f.write('3번째 줄입니다\\n')   \n",
    "    \n",
    "with open('file.txt','r') as f:  \n",
    "    data = f.read()\n",
    "    print(data)"
   ]
  },
  {
   "cell_type": "markdown",
   "id": "8bae140f",
   "metadata": {},
   "source": [
    "[실습과제]\n",
    "1. 1~100을 1줄에 10개씩 출력  \n",
    "   1.1 제어문만 이용하여 작성(시퀀스 자료형 사용안함)  \n",
    "   1.2 시퀀스 자료형을 이용하여 작성(list 내장)\n"
   ]
  },
  {
   "cell_type": "code",
   "execution_count": 22,
   "id": "b0a9d2d4",
   "metadata": {},
   "outputs": [
    {
     "name": "stdout",
     "output_type": "stream",
     "text": [
      "1 2 3 4 5 6 7 8 9 10 \n",
      "11 12 13 14 15 16 17 18 19 20 \n",
      "21 22 23 24 25 26 27 28 29 30 \n",
      "31 32 33 34 35 36 37 38 39 40 \n",
      "41 42 43 44 45 46 47 48 49 50 \n",
      "51 52 53 54 55 56 57 58 59 60 \n",
      "61 62 63 64 65 66 67 68 69 70 \n",
      "71 72 73 74 75 76 77 78 79 80 \n",
      "81 82 83 84 85 86 87 88 89 90 \n",
      "91 92 93 94 95 96 97 98 99 100 \n"
     ]
    }
   ],
   "source": [
    "# 과제 힌트\n",
    "l = [k for k in range(1,101)]\n",
    "for k in l:\n",
    "    print(k,end=' ')\n",
    "    if k%10 == 0:\n",
    "        print()"
   ]
  },
  {
   "cell_type": "code",
   "execution_count": null,
   "id": "e4449f83",
   "metadata": {},
   "outputs": [],
   "source": []
  }
 ],
 "metadata": {
  "kernelspec": {
   "display_name": "Python 3 (ipykernel)",
   "language": "python",
   "name": "python3"
  },
  "language_info": {
   "codemirror_mode": {
    "name": "ipython",
    "version": 3
   },
   "file_extension": ".py",
   "mimetype": "text/x-python",
   "name": "python",
   "nbconvert_exporter": "python",
   "pygments_lexer": "ipython3",
   "version": "3.9.16"
  }
 },
 "nbformat": 4,
 "nbformat_minor": 5
}
