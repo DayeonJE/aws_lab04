{
 "cells": [
  {
   "cell_type": "markdown",
   "id": "60bc1451",
   "metadata": {},
   "source": [
    "### 사전(dict): 가변형(mutable), 순서가 없다, 연관형, 매핑형 ,{ } : 중괄호사용\n",
    "#### {key:value,.....}, key 는 반드시 immutable형 이어야 한다(숫자형,문자열,튜플),\n",
    "#### value 는 mutable,immutable 모두 사용 가능하다"
   ]
  },
  {
   "cell_type": "code",
   "execution_count": 1,
   "id": "37c2ffb6",
   "metadata": {},
   "outputs": [
    {
     "name": "stdout",
     "output_type": "stream",
     "text": [
      "{'name': '홍길동', 'age': 30, 'phone': '010-1234-1234', 'birth': '20221203', 10: 100}\n",
      "<class 'dict'>\n"
     ]
    }
   ],
   "source": [
    "a = {'name':'홍길동','age':30,'phone':'010-1234-1234','birth':'20221203',10:100}\n",
    "print(a)\n",
    "print(type(a))"
   ]
  },
  {
   "cell_type": "code",
   "execution_count": 2,
   "id": "a84a102a",
   "metadata": {},
   "outputs": [
    {
     "name": "stdout",
     "output_type": "stream",
     "text": [
      "홍길동 30 20221203 100\n"
     ]
    }
   ],
   "source": [
    "# 요소 접근 : a[key]\n",
    "print(a['name'],a['age'],a['birth'],a[10])"
   ]
  },
  {
   "cell_type": "code",
   "execution_count": 3,
   "id": "5e29edab",
   "metadata": {},
   "outputs": [
    {
     "name": "stdout",
     "output_type": "stream",
     "text": [
      "{'name': '김철수', 'age': 20, 'phone': '010-1234-1234', 'birth': '20221203', 10: 500}\n"
     ]
    }
   ],
   "source": [
    "# 요소 수정\n",
    "a['name'] = '김철수'  # 요소 변경이 가능\n",
    "a['age'] = 20\n",
    "a[10] =500\n",
    "print(a)"
   ]
  },
  {
   "cell_type": "code",
   "execution_count": 4,
   "id": "b0df70ad",
   "metadata": {},
   "outputs": [
    {
     "name": "stdout",
     "output_type": "stream",
     "text": [
      "{'name': '김철수', 'age': 20, 'phone': '010-1234-1234', 'birth': '20221203', 10: 500, '주소': '서울시', '직업': '학생', (1, 2, 3): '튜플데이터'}\n"
     ]
    }
   ],
   "source": [
    "# 요소 추가\n",
    "a['주소'] = '서울시'\n",
    "a['직업'] = '학생'\n",
    "a[(1,2,3)] = '튜플데이터'\n",
    "print(a)"
   ]
  },
  {
   "cell_type": "code",
   "execution_count": 5,
   "id": "075c1c55",
   "metadata": {},
   "outputs": [
    {
     "name": "stdout",
     "output_type": "stream",
     "text": [
      "{'name': '김철수', 'age': 20, 'phone': '010-1234-1234', 'birth': '20221203', 10: 500, '직업': '학생'}\n"
     ]
    }
   ],
   "source": [
    "# 제거\n",
    "del a['주소']\n",
    "del a[(1,2,3)]\n",
    "print(a)"
   ]
  },
  {
   "cell_type": "code",
   "execution_count": 6,
   "id": "a11c7057",
   "metadata": {},
   "outputs": [
    {
     "name": "stdout",
     "output_type": "stream",
     "text": [
      "dict_keys(['name', 'age', 'phone', 'birth', 10, '직업'])\n",
      "<class 'dict_keys'>\n",
      "dict_values(['김철수', 20, '010-1234-1234', '20221203', 500, '학생'])\n",
      "<class 'dict_values'>\n",
      "dict_items([('name', '김철수'), ('age', 20), ('phone', '010-1234-1234'), ('birth', '20221203'), (10, 500), ('직업', '학생')])\n"
     ]
    }
   ],
   "source": [
    "# 연산자\n",
    "# dir(a)          # 클래스가 지원하는 메서드 목록을 출력\n",
    "\n",
    "print(a.keys())   # key 값들 만 dict_keys타입으로 변환\n",
    "print(type(a.keys()))\n",
    "\n",
    "print(a.values()) # value 값들만 dict_values 타입으로 변환\n",
    "print(type(a.values()))\n",
    "\n",
    "print(a.items())  # key와 value값을 튜플로 만들어 dict_items 타입으로 변환"
   ]
  },
  {
   "cell_type": "code",
   "execution_count": 7,
   "id": "1c3b5c3c",
   "metadata": {},
   "outputs": [
    {
     "name": "stdout",
     "output_type": "stream",
     "text": [
      "김철수\n",
      "김철수\n",
      "None\n",
      "독서\n"
     ]
    }
   ],
   "source": [
    "print(a['name'])\n",
    "print(a.get('name'))\n",
    "# a['hobby']           # KeyError: 'hobby'\n",
    "ret = a.get('hobby')   # key 가 없으면 None\n",
    "print(ret)\n",
    "\n",
    "print(a.get('hobby','독서')) # 원본은 수정되지 않음"
   ]
  },
  {
   "cell_type": "code",
   "execution_count": 8,
   "id": "a0ba51af",
   "metadata": {},
   "outputs": [
    {
     "data": {
      "text/plain": [
       "{'name': '김철수',\n",
       " 'age': 20,\n",
       " 'phone': '010-1234-1234',\n",
       " 'birth': '20221203',\n",
       " 10: 500,\n",
       " '직업': '학생',\n",
       " 'gender': '남성',\n",
       " 'ten': 10}"
      ]
     },
     "execution_count": 8,
     "metadata": {},
     "output_type": "execute_result"
    }
   ],
   "source": [
    "# 추가\n",
    "d = {'gender':'남성', 'ten':10}\n",
    "a.update(d)  #  새로운 dict의 요소를 a에 추가 \n",
    "a"
   ]
  },
  {
   "cell_type": "code",
   "execution_count": 9,
   "id": "e6b926a4",
   "metadata": {},
   "outputs": [
    {
     "name": "stdout",
     "output_type": "stream",
     "text": [
      "10\n",
      "{'name': '김철수', 'age': 20, 'phone': '010-1234-1234', 'birth': '20221203', 10: 500, '직업': '학생', 'gender': '남성'}\n"
     ]
    }
   ],
   "source": [
    "# 제거\n",
    "ret = a.pop('ten')\n",
    "print(ret)\n",
    "print(a)"
   ]
  },
  {
   "cell_type": "code",
   "execution_count": 10,
   "id": "8d475828",
   "metadata": {},
   "outputs": [
    {
     "name": "stdout",
     "output_type": "stream",
     "text": [
      "{} <class 'dict'>\n"
     ]
    }
   ],
   "source": [
    "a.clear()   # 빈 사전을 생성\n",
    "print(a,type(a))"
   ]
  },
  {
   "cell_type": "code",
   "execution_count": 11,
   "id": "a14c3310",
   "metadata": {},
   "outputs": [
    {
     "data": {
      "text/plain": [
       "{'a': 97, 'b': 98, 'c': 99, 'd': 100, 'e': 101, 'f': 102, 'g': 103}"
      ]
     },
     "execution_count": 11,
     "metadata": {},
     "output_type": "execute_result"
    }
   ],
   "source": [
    "# 사전 내장\n",
    "a = {k:ord(k) for k in 'abcdefg'}\n",
    "a"
   ]
  },
  {
   "cell_type": "code",
   "execution_count": 12,
   "id": "707184b1",
   "metadata": {},
   "outputs": [
    {
     "name": "stdout",
     "output_type": "stream",
     "text": [
      "97\n",
      "a\n"
     ]
    }
   ],
   "source": [
    "print(ord('a'))  # 아스키 코드값으로\n",
    "print(chr(97))   # 문자로 변환"
   ]
  },
  {
   "cell_type": "markdown",
   "id": "6c80b933",
   "metadata": {},
   "source": [
    "#### 집합(set) : mutable, 순서가 없다, { }중괄호 사용, 중복을 허용하지 않는다"
   ]
  },
  {
   "cell_type": "code",
   "execution_count": 13,
   "id": "edf2b670",
   "metadata": {},
   "outputs": [
    {
     "name": "stdout",
     "output_type": "stream",
     "text": [
      "{1, 2, 3, 4}\n",
      "<class 'set'>\n"
     ]
    }
   ],
   "source": [
    "s = {1,2,3,4}\n",
    "print(s)\n",
    "print(type(s))"
   ]
  },
  {
   "cell_type": "code",
   "execution_count": 14,
   "id": "1a159caf",
   "metadata": {},
   "outputs": [
    {
     "name": "stdout",
     "output_type": "stream",
     "text": [
      "{8, 1, 4, 6}\n"
     ]
    }
   ],
   "source": [
    "s = {4,4,4,6,6,6,1,1,1,8,8,8}\n",
    "print(s)"
   ]
  },
  {
   "cell_type": "code",
   "execution_count": 15,
   "id": "cef92f5b",
   "metadata": {},
   "outputs": [
    {
     "name": "stdout",
     "output_type": "stream",
     "text": [
      "[8, 1, 4, 6]\n"
     ]
    }
   ],
   "source": [
    "# 리스트에서 중복된 요소를 제거\n",
    "l = [4,4,4,6,6,6,1,1,1,8,8,8]\n",
    "l2 = list(set(l))\n",
    "print(l2)"
   ]
  },
  {
   "cell_type": "code",
   "execution_count": 16,
   "id": "62bcdfdc",
   "metadata": {},
   "outputs": [
    {
     "data": {
      "text/plain": [
       "{1, 4, 6, 8, 9}"
      ]
     },
     "execution_count": 16,
     "metadata": {},
     "output_type": "execute_result"
    }
   ],
   "source": [
    "#추가\n",
    "s.add(9)\n",
    "s"
   ]
  },
  {
   "cell_type": "code",
   "execution_count": 17,
   "id": "8d53e8ed",
   "metadata": {},
   "outputs": [
    {
     "data": {
      "text/plain": [
       "{1, 4, 6, 8}"
      ]
     },
     "execution_count": 17,
     "metadata": {},
     "output_type": "execute_result"
    }
   ],
   "source": [
    "# 제거\n",
    "s.remove(9)\n",
    "s"
   ]
  },
  {
   "cell_type": "code",
   "execution_count": 18,
   "id": "f2255ea4",
   "metadata": {},
   "outputs": [
    {
     "data": {
      "text/plain": [
       "{0, 1, 2, 4, 6, 8}"
      ]
     },
     "execution_count": 18,
     "metadata": {},
     "output_type": "execute_result"
    }
   ],
   "source": [
    "s.update([0,1,2])\n",
    "s"
   ]
  },
  {
   "cell_type": "code",
   "execution_count": 19,
   "id": "2568d0f4",
   "metadata": {},
   "outputs": [],
   "source": [
    "# s[0]   # 순서가 없는 자료형이므로 인덱싱과 슬라이싱 불가"
   ]
  },
  {
   "cell_type": "code",
   "execution_count": 20,
   "id": "fb89c669",
   "metadata": {},
   "outputs": [
    {
     "name": "stdout",
     "output_type": "stream",
     "text": [
      "{0, 2, 4, 6, 8, 10}\n",
      "{'t', 'l', 'y', 'p', 'n', 'h', ' '}\n"
     ]
    }
   ],
   "source": [
    "# 집합 내장(set comprehension)\n",
    "s = {k*2 for k in range(6)}\n",
    "print(s)\n",
    "\n",
    "s = {v for v in 'python hello' if v not in 'aeiou'} # 자음만 추출\n",
    "print(s)"
   ]
  },
  {
   "cell_type": "code",
   "execution_count": 21,
   "id": "d58edeea",
   "metadata": {},
   "outputs": [],
   "source": [
    "# 자료형을 구별\n",
    "a = 10             # int     (정수형)\n",
    "f = 5.34           # float   (실수형)\n",
    "s1 = 'hello'       # str     (문자열)\n",
    "l = [1,2,3]        # list    (리스트)\n",
    "t = (1,2,3)        # tuple   (튜플)\n",
    "d = {'a':1,'b':2}  # dict    (사전)\n",
    "s = {1,2,3}        # set     (집합)"
   ]
  },
  {
   "cell_type": "code",
   "execution_count": null,
   "id": "208fda50",
   "metadata": {},
   "outputs": [],
   "source": []
  }
 ],
 "metadata": {
  "kernelspec": {
   "display_name": "Python 3 (ipykernel)",
   "language": "python",
   "name": "python3"
  },
  "language_info": {
   "codemirror_mode": {
    "name": "ipython",
    "version": 3
   },
   "file_extension": ".py",
   "mimetype": "text/x-python",
   "name": "python",
   "nbconvert_exporter": "python",
   "pygments_lexer": "ipython3",
   "version": "3.9.16"
  }
 },
 "nbformat": 4,
 "nbformat_minor": 5
}
