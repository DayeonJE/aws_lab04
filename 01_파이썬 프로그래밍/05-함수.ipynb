{
 "cells": [
  {
   "cell_type": "code",
   "execution_count": 2,
   "id": "9b11777a",
   "metadata": {},
   "outputs": [],
   "source": [
    "# 함수 구현 방법\n",
    "# '''\n",
    "# def 함수명(매개변수,.....):\n",
    "#     <수행할 문장1>\n",
    "#     <수행할 문장2>\n",
    "#     <수행할 문장3>\n",
    "#     ..\n",
    "#     return 반환할값\n",
    "# '''"
   ]
  },
  {
   "cell_type": "code",
   "execution_count": 20,
   "id": "15a32834",
   "metadata": {},
   "outputs": [
    {
     "name": "stdout",
     "output_type": "stream",
     "text": [
      "<class 'function'>\n",
      "add is called!!\n",
      "30\n",
      "subtract is called!!\n",
      "-10\n",
      "multiply is called!!\n",
      "200\n",
      "divide is called!!\n",
      "0.5\n",
      "add is called!!\n",
      "7.9\n",
      "add is called!!\n",
      "GoodMorning\n",
      "add is called!!\n",
      "[1, 2, 3, 4, 5, 6]\n"
     ]
    }
   ],
   "source": [
    "# 함수 정의\n",
    "def add(a,b):\n",
    "    c = a + b\n",
    "    print('add is called!!')\n",
    "    return c\n",
    "\n",
    "def subtract(a,b):\n",
    "    c = a - b\n",
    "    print('subtract is called!!')\n",
    "    return c\n",
    "\n",
    "def multiply(a,b):\n",
    "    c = a * b\n",
    "    print('multiply is called!!')\n",
    "    return c\n",
    "\n",
    "def divide(a,b):\n",
    "    c = a / b\n",
    "    print('divide is called!!')\n",
    "    return c    \n",
    "    \n",
    "print(type(add))  # <class 'function'> , add는 함수 객체이다\n",
    "\n",
    "# 함수 호출\n",
    "ret = add(10,20)  # add 함수를 호출한다\n",
    "print(ret)\n",
    "\n",
    "ret = subtract(10,20)\n",
    "print(ret)\n",
    "\n",
    "ret = multiply(10,20)\n",
    "print(ret)\n",
    "\n",
    "ret = divide(10,20)\n",
    "print(ret)\n",
    "\n",
    "print(add(3.5,4.4))          # 인자의 데이터 형이 동적이다\n",
    "print(add('Good','Morning'))\n",
    "print(add([1,2,3],[4,5,6]))"
   ]
  },
  {
   "cell_type": "code",
   "execution_count": 12,
   "id": "11a00b6b",
   "metadata": {},
   "outputs": [],
   "source": [
    "# dir(add) # __call__ : 호출할 수 있다(callable)"
   ]
  }
 ],
 "metadata": {
  "kernelspec": {
   "display_name": "Python 3 (ipykernel)",
   "language": "python",
   "name": "python3"
  },
  "language_info": {
   "codemirror_mode": {
    "name": "ipython",
    "version": 3
   },
   "file_extension": ".py",
   "mimetype": "text/x-python",
   "name": "python",
   "nbconvert_exporter": "python",
   "pygments_lexer": "ipython3",
   "version": "3.9.16"
  }
 },
 "nbformat": 4,
 "nbformat_minor": 5
}
