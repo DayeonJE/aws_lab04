{
 "cells": [
  {
   "cell_type": "markdown",
   "id": "92255c3b",
   "metadata": {},
   "source": [
    "## XOR DNN(Deep Neural Net,심층신경망)\n",
    " 2진 분류 : Logistic Regression  \n",
    "  활성화 함수 : sigmoid 함수 사용"
   ]
  },
  {
   "cell_type": "code",
   "execution_count": 1,
   "id": "9ff8515d",
   "metadata": {},
   "outputs": [
    {
     "name": "stdout",
     "output_type": "stream",
     "text": [
      "(4, 2) (4, 1)\n"
     ]
    }
   ],
   "source": [
    "import tensorflow as tf\n",
    "import numpy as np\n",
    "tf.random.set_seed(5)\n",
    "\n",
    "# train data set\n",
    "x_train = np.array([[0,0],\n",
    "                    [0,1],\n",
    "                    [1,0],\n",
    "                    [1,1]],dtype=np.float32)\n",
    "y_train = np.array([[0],\n",
    "                    [1],\n",
    "                    [1],\n",
    "                    [0]],dtype=np.float32)\n",
    "\n",
    "print(x_train.shape,y_train.shape)"
   ]
  },
  {
   "cell_type": "code",
   "execution_count": 2,
   "id": "83ef3bff",
   "metadata": {},
   "outputs": [],
   "source": [
    "# Layer 1\n",
    "# (4,2) * (2,2) = (4,2)\n",
    "W1 = tf.Variable(tf.random.normal([2,2]),name='weight1')\n",
    "b1 = tf.Variable(tf.random.normal([2]),name='bias1')\n",
    "\n",
    "def layer1(X):\n",
    "    return tf.sigmoid(tf.matmul(X,W1) + b1) "
   ]
  },
  {
   "cell_type": "code",
   "execution_count": 3,
   "id": "4fa79eb1",
   "metadata": {},
   "outputs": [],
   "source": [
    "# Layer 2\n",
    "# (4,2) * (2,1) = (4,1)\n",
    "W2 = tf.Variable(tf.random.normal([2,1]),name='weight2')\n",
    "b2 = tf.Variable(tf.random.normal([1]),name='bias2')"
   ]
  },
  {
   "cell_type": "code",
   "execution_count": 4,
   "id": "a4be08f0",
   "metadata": {},
   "outputs": [],
   "source": [
    "# 예측 함수(hypothesis) : H(X) = sigmoid(W*X + b)\n",
    "def hypothesis(X):\n",
    "    return tf.sigmoid(tf.matmul(layer1(X),W2) + b2)  # 0과 1사이의 값이 출력"
   ]
  },
  {
   "cell_type": "code",
   "execution_count": 5,
   "id": "971ac2b6",
   "metadata": {},
   "outputs": [],
   "source": [
    "# 비용 함수 : logloss , 2진 분류 모델\n",
    "def cost_func():\n",
    "    cost = -tf.reduce_mean(y_train*tf.math.log(hypothesis(x_train)) +\n",
    "                         (1-y_train)*tf.math.log(1-hypothesis(x_train)))\n",
    "    return cost"
   ]
  },
  {
   "cell_type": "code",
   "execution_count": 6,
   "id": "5cbc9bf1",
   "metadata": {},
   "outputs": [],
   "source": [
    "# 경사 하강법\n",
    "optimizer = tf.keras.optimizers.Adam(learning_rate=0.01)"
   ]
  },
  {
   "cell_type": "code",
   "execution_count": 7,
   "id": "936455d7",
   "metadata": {},
   "outputs": [
    {
     "name": "stdout",
     "output_type": "stream",
     "text": [
      "***** Start Learning!!\n",
      "0000 cost:[ 0.70409703 ]  W1: [[-0.19030488 -0.9402918 ]\n",
      " [-0.04963873 -0.73254627]]  b1: [0.21652977 0.8206513 ]\n",
      "1000 cost:[ 0.025501752 ]  W1: [[-5.0247602 -6.666938 ]\n",
      " [-4.994727  -6.503278 ]]  b1: [7.5096493 2.9154754]\n",
      "2000 cost:[ 0.00689614 ]  W1: [[-5.9448433 -7.5746775]\n",
      " [-5.917539  -7.4149313]]  b1: [8.922689 3.408215]\n",
      "3000 cost:[ 0.0029871557 ]  W1: [[-6.45196   -8.081456 ]\n",
      " [-6.4260955 -7.923083 ]]  b1: [9.694398 3.674916]\n",
      "4000 cost:[ 0.0015255288 ]  W1: [[-6.8228364 -8.453765 ]\n",
      " [-6.7979827 -8.296078 ]]  b1: [10.256577   3.8682892]\n",
      "5000 cost:[ 0.00084186986 ]  W1: [[-7.1278143 -8.760641 ]\n",
      " [-7.103759  -8.603349 ]]  b1: [10.717858   4.0264564]\n",
      "***** Learning Finished!!\n"
     ]
    }
   ],
   "source": [
    "# 학습 시작\n",
    "print('***** Start Learning!!')\n",
    "for step in range(5001):\n",
    "    optimizer.minimize(cost_func,var_list=[W1,b1,W2,b2])\n",
    "\n",
    "    if step % 1000 == 0:\n",
    "        print('%04d'%step,'cost:[',cost_func().numpy(),']',\n",
    "             ' W1:',W1.numpy(),' b1:',b1.numpy())\n",
    "    \n",
    "print('***** Learning Finished!!')    "
   ]
  },
  {
   "cell_type": "code",
   "execution_count": 8,
   "id": "6e355963",
   "metadata": {},
   "outputs": [
    {
     "name": "stdout",
     "output_type": "stream",
     "text": [
      "Weight1: [[-7.1278143 -8.760641 ]\n",
      " [-7.103759  -8.603349 ]]\n",
      "Bias1: [10.717858   4.0264564]\n",
      "Weight2: [[ 15.241031]\n",
      " [-14.880701]]\n",
      "Bias2: [-7.5699606]\n"
     ]
    }
   ],
   "source": [
    "# 회귀 계수, weight과 bias 출력\n",
    "print('Weight1:',W1.numpy())\n",
    "print('Bias1:',b1.numpy())\n",
    "\n",
    "print('Weight2:',W2.numpy())\n",
    "print('Bias2:',b2.numpy())"
   ]
  },
  {
   "cell_type": "code",
   "execution_count": 9,
   "id": "132f119b",
   "metadata": {},
   "outputs": [
    {
     "name": "stdout",
     "output_type": "stream",
     "text": [
      "Hypothesis:\n",
      " [[9.5849595e-04]\n",
      " [9.9919164e-01]\n",
      " [9.9920160e-01]\n",
      " [8.0076244e-04]] \n",
      "Predict:\n",
      " [[0.]\n",
      " [1.]\n",
      " [1.]\n",
      " [0.]] \n",
      "Accuracy: 1.0\n"
     ]
    }
   ],
   "source": [
    "# 정확도 측정 : accuracy computation\n",
    "def predict(X):\n",
    "    return tf.cast(hypothesis(X) > 0.5,dtype=tf.float32)\n",
    "\n",
    "# 검증 데이터를 사용하여 예측 (70%:30%)\n",
    "preds = predict(x_train)\n",
    "accuracy = tf.reduce_mean(tf.cast(tf.equal(preds,y_train),dtype=tf.float32))\n",
    "\n",
    "print(\"Hypothesis:\\n\",hypothesis(x_train).numpy(), \n",
    "      \"\\nPredict:\\n\",predict(x_train).numpy(),\n",
    "      \"\\nAccuracy:\",accuracy.numpy())   # Accuracy: 1.0"
   ]
  },
  {
   "cell_type": "code",
   "execution_count": null,
   "id": "ebf711e1",
   "metadata": {},
   "outputs": [],
   "source": []
  }
 ],
 "metadata": {
  "kernelspec": {
   "display_name": "Python 3 (ipykernel)",
   "language": "python",
   "name": "python3"
  },
  "language_info": {
   "codemirror_mode": {
    "name": "ipython",
    "version": 3
   },
   "file_extension": ".py",
   "mimetype": "text/x-python",
   "name": "python",
   "nbconvert_exporter": "python",
   "pygments_lexer": "ipython3",
   "version": "3.9.16"
  }
 },
 "nbformat": 4,
 "nbformat_minor": 5
}
