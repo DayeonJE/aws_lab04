{
 "cells": [
  {
   "cell_type": "code",
   "execution_count": 1,
   "id": "bceaea87",
   "metadata": {},
   "outputs": [
    {
     "data": {
      "text/plain": [
       "'2.10.0'"
      ]
     },
     "execution_count": 1,
     "metadata": {},
     "output_type": "execute_result"
    }
   ],
   "source": [
    "# ! python -m pip install --upgrade pip\n",
    "# ! pip3 install tensorflow==2.10.0\n",
    "\n",
    "import tensorflow as tf\n",
    "tf.__version__\n",
    "\n",
    "\n",
    "# https://www.tensorflow.org/tutorials/customization/basics?hl=ko"
   ]
  },
  {
   "cell_type": "code",
   "execution_count": 2,
   "id": "855053cb",
   "metadata": {},
   "outputs": [],
   "source": [
    "import numpy as np"
   ]
  },
  {
   "cell_type": "markdown",
   "id": "41df8434",
   "metadata": {},
   "source": [
    "### tf.Tensor: 텐서 객체\n",
    "#### 텐서는 다차원 배열로 넘파이(NumPy) ndarray 객체와 비슷하며,\n",
    "#### tf.Tensor 객체는 데이터 타입과 크기를 가지고 있다.\n",
    "#### 또한 tf.Tensor는 GPU 같은 가속기 메모리에 상주할 수 있다.\n",
    "#### 텐서플로는 텐서를 생성하고 이용하는 풍부한 연산 라이브러리(tf.add, tf.matmul, tf.linalg.inv 등.)를 제공하며\n",
    "#### 연산수행 시 자동으로 텐서를 파이썬 네이티브(native) 타입으로 변환하여 연산한다"
   ]
  },
  {
   "cell_type": "code",
   "execution_count": 3,
   "id": "b156e3a5",
   "metadata": {},
   "outputs": [
    {
     "name": "stdout",
     "output_type": "stream",
     "text": [
      "tf.Tensor(50, shape=(), dtype=int32)\n",
      "tf.Tensor(\n",
      "[[1. 3.]\n",
      " [3. 7.]], shape=(2, 2), dtype=float32)\n"
     ]
    }
   ],
   "source": [
    "# 상수 : tf.constant()\n",
    "s = tf.constant(50)\n",
    "print(s)\n",
    "\n",
    "a = tf.constant([[1.,2.],\n",
    "                 [3.,4.]])\n",
    "b = tf.constant([[1.,1.],\n",
    "                 [0.,1.]])\n",
    "c = tf.matmul(a,b)  # 내적곱\n",
    "print(c)"
   ]
  },
  {
   "cell_type": "code",
   "execution_count": 4,
   "id": "8a142b31",
   "metadata": {},
   "outputs": [
    {
     "name": "stdout",
     "output_type": "stream",
     "text": [
      "tf.Tensor(300, shape=(), dtype=int32)\n",
      "tf.Tensor(25, shape=(), dtype=int32)\n",
      "tf.Tensor(6, shape=(), dtype=int32)\n",
      "tf.Tensor(2, shape=(), dtype=int32)\n"
     ]
    }
   ],
   "source": [
    "# 변수 : tf.Variable()\n",
    "# 초기 값이 미리 설정,주로 텐서플로 내부에서 연산시 변경되는 변수에 사용,weight과 bias\n",
    "a = tf.Variable(100)\n",
    "b = tf.Variable(200)\n",
    "c = tf.add(a,b)\n",
    "print(c)\n",
    "print(tf.square(5))\n",
    "print(tf.reduce_sum([1,2,3]))\n",
    "print(tf.reduce_mean([1,2,3]))"
   ]
  },
  {
   "cell_type": "code",
   "execution_count": 5,
   "id": "30e8f19d",
   "metadata": {},
   "outputs": [
    {
     "name": "stdout",
     "output_type": "stream",
     "text": [
      "tf.Tensor(\n",
      "[[1. 2.]\n",
      " [3. 4.]], shape=(2, 2), dtype=float32)\n",
      "[[1. 2.]\n",
      " [3. 4.]] <class 'numpy.ndarray'>\n"
     ]
    }
   ],
   "source": [
    "# Tensor객체를 ndarray로 변환\n",
    "# 속성과 타입 변환\n",
    "a = tf.constant([[1.,2.],\n",
    "                 [3.,4.]])\n",
    "print(a)\n",
    "n = a.numpy()\n",
    "print(n,type(n))"
   ]
  },
  {
   "cell_type": "markdown",
   "id": "7144f7ec",
   "metadata": {},
   "source": [
    "### Linear Regression(선형 회귀)"
   ]
  },
  {
   "cell_type": "code",
   "execution_count": 6,
   "id": "e7b54bc0",
   "metadata": {},
   "outputs": [
    {
     "name": "stdout",
     "output_type": "stream",
     "text": [
      "(50,) (50,)\n"
     ]
    }
   ],
   "source": [
    "# 데이터 읽어오기\n",
    "xy = np.loadtxt('data-01-cars.csv',delimiter=',',skiprows=1,unpack=True)\n",
    "x_train = xy[0]\n",
    "y_train = xy[1]\n",
    "print(x_train.shape,y_train.shape)"
   ]
  },
  {
   "cell_type": "code",
   "execution_count": 7,
   "id": "43c20091",
   "metadata": {},
   "outputs": [],
   "source": [
    "# 변수 초기화 : weight, bias\n",
    "# tf.random.normal([1]) : 난수를 1개를 생성\n",
    "W = tf.Variable(tf.random.normal([1]),name='weight')\n",
    "b = tf.Variable(tf.random.normal([1]),name='bias')"
   ]
  },
  {
   "cell_type": "code",
   "execution_count": 8,
   "id": "59544255",
   "metadata": {},
   "outputs": [],
   "source": [
    "# 예측 함수(hypothesis) : H(X) = W*X + b\n",
    "def hypothesis(X):\n",
    "    return X*W + b"
   ]
  },
  {
   "cell_type": "code",
   "execution_count": 9,
   "id": "7c805920",
   "metadata": {},
   "outputs": [],
   "source": [
    "# 비용 함수 : (Hx - y)^2 의 평균\n",
    "def cost_func():\n",
    "    cost = tf.reduce_mean(tf.square(hypothesis(x_train) - y_train))\n",
    "    return cost"
   ]
  },
  {
   "cell_type": "code",
   "execution_count": 10,
   "id": "f1a77857",
   "metadata": {},
   "outputs": [],
   "source": [
    "# 경사 하강법\n",
    "# optimizer = tf.compat.v1.train.GradientDescentOptimizer(learning_rate=0.1)\n",
    "# optimizer = tf.compat.v1.train.AdamOptimizer(learning_rate=0.1)\n",
    "optimizer = tf.keras.optimizers.Adam(learning_rate=0.1)"
   ]
  },
  {
   "cell_type": "code",
   "execution_count": 11,
   "id": "207c32fc",
   "metadata": {},
   "outputs": [
    {
     "name": "stdout",
     "output_type": "stream",
     "text": [
      "***** Start Learning!!\n",
      "0000 cost:[ 3377.087 ]  W: [-0.50752956]  b: [-0.29102206]\n",
      "0100 cost:[ 268.25702 ]  W: [2.7480547]  b: [2.319108]\n",
      "0200 cost:[ 262.94437 ]  W: [2.8421416]  b: [1.0287187]\n",
      "0300 cost:[ 257.0464 ]  W: [2.9357383]  b: [-0.56961507]\n",
      "0400 cost:[ 251.1883 ]  W: [3.0384412]  b: [-2.3218868]\n",
      "0500 cost:[ 245.80717 ]  W: [3.144478]  b: [-4.131234]\n",
      "0600 cost:[ 241.14522 ]  W: [3.2495155]  b: [-5.923678]\n",
      "0700 cost:[ 237.29947 ]  W: [3.3502498]  b: [-7.6428013]\n",
      "0800 cost:[ 234.26309 ]  W: [3.4442468]  b: [-9.247028]\n",
      "0900 cost:[ 231.96219 ]  W: [3.529834]  b: [-10.707771]\n",
      "1000 cost:[ 230.28625 ]  W: [3.6060047]  b: [-12.007841]\n",
      "1100 cost:[ 229.11215 ]  W: [3.672329]  b: [-13.139875]\n",
      "1200 cost:[ 228.32108 ]  W: [3.728856]  b: [-14.104712]\n",
      "1300 cost:[ 227.80867 ]  W: [3.7760203]  b: [-14.909734]\n",
      "1400 cost:[ 227.48979 ]  W: [3.8145392]  b: [-15.567205]\n",
      "1500 cost:[ 227.29933 ]  W: [3.8453243]  b: [-16.092663]\n",
      "1600 cost:[ 227.1903 ]  W: [3.8693888]  b: [-16.50342]\n",
      "1700 cost:[ 227.13052 ]  W: [3.8877785]  b: [-16.81731]\n",
      "1800 cost:[ 227.09924 ]  W: [3.9015074]  b: [-17.051645]\n",
      "1900 cost:[ 227.08362 ]  W: [3.911512]  b: [-17.222412]\n",
      "2000 cost:[ 227.07616 ]  W: [3.918623]  b: [-17.343788]\n",
      "2100 cost:[ 227.0728 ]  W: [3.923546]  b: [-17.427818]\n",
      "2200 cost:[ 227.07133 ]  W: [3.9268634]  b: [-17.48444]\n",
      "2300 cost:[ 227.07079 ]  W: [3.9290366]  b: [-17.521536]\n",
      "2400 cost:[ 227.07051 ]  W: [3.9304185]  b: [-17.545126]\n",
      "2500 cost:[ 227.07043 ]  W: [3.9312708]  b: [-17.559671]\n",
      "2600 cost:[ 227.0704 ]  W: [3.931779]  b: [-17.568352]\n",
      "2700 cost:[ 227.07043 ]  W: [3.9320726]  b: [-17.573359]\n",
      "2800 cost:[ 227.0704 ]  W: [3.9322355]  b: [-17.576141]\n",
      "2900 cost:[ 227.0704 ]  W: [3.932323]  b: [-17.577631]\n",
      "3000 cost:[ 227.0704 ]  W: [3.9323676]  b: [-17.57839]\n",
      "3100 cost:[ 227.0704 ]  W: [3.9323905]  b: [-17.578777]\n",
      "3200 cost:[ 227.07047 ]  W: [3.9324014]  b: [-17.578968]\n",
      "3300 cost:[ 227.07043 ]  W: [3.9324028]  b: [-17.578993]\n",
      "3400 cost:[ 227.07043 ]  W: [3.9324028]  b: [-17.578993]\n",
      "3500 cost:[ 227.07043 ]  W: [3.9324028]  b: [-17.578993]\n",
      "3600 cost:[ 227.07039 ]  W: [3.932404]  b: [-17.579014]\n",
      "3700 cost:[ 227.07039 ]  W: [3.932404]  b: [-17.579014]\n",
      "3800 cost:[ 227.07043 ]  W: [3.9324043]  b: [-17.57902]\n",
      "3900 cost:[ 227.07043 ]  W: [3.9324043]  b: [-17.57902]\n",
      "4000 cost:[ 227.07043 ]  W: [3.9324043]  b: [-17.57902]\n",
      "4100 cost:[ 227.07043 ]  W: [3.9324043]  b: [-17.57902]\n",
      "4200 cost:[ 227.07043 ]  W: [3.9324055]  b: [-17.579037]\n",
      "4300 cost:[ 227.07043 ]  W: [3.9324055]  b: [-17.579039]\n",
      "4400 cost:[ 227.07043 ]  W: [3.9324057]  b: [-17.579042]\n",
      "4500 cost:[ 227.07043 ]  W: [3.9324057]  b: [-17.579042]\n",
      "4600 cost:[ 227.07039 ]  W: [3.932406]  b: [-17.579048]\n",
      "4700 cost:[ 227.0704 ]  W: [3.932406]  b: [-17.57905]\n",
      "4800 cost:[ 227.07043 ]  W: [3.932406]  b: [-17.579052]\n",
      "4900 cost:[ 227.07043 ]  W: [3.9324064]  b: [-17.579058]\n",
      "5000 cost:[ 227.07043 ]  W: [3.9324064]  b: [-17.579058]\n",
      "5100 cost:[ 227.07043 ]  W: [3.9324067]  b: [-17.579058]\n",
      "5200 cost:[ 227.07043 ]  W: [3.9324064]  b: [-17.579058]\n",
      "5300 cost:[ 227.0704 ]  W: [3.9324067]  b: [-17.57906]\n",
      "5400 cost:[ 227.0704 ]  W: [3.9324067]  b: [-17.57906]\n",
      "5500 cost:[ 227.0704 ]  W: [3.9324067]  b: [-17.57906]\n",
      "5600 cost:[ 227.0704 ]  W: [3.9324067]  b: [-17.57906]\n",
      "5700 cost:[ 227.0704 ]  W: [3.9324067]  b: [-17.57906]\n",
      "5800 cost:[ 227.0704 ]  W: [3.9324074]  b: [-17.579071]\n",
      "5900 cost:[ 227.0704 ]  W: [3.9324074]  b: [-17.579071]\n",
      "6000 cost:[ 227.0704 ]  W: [3.9324074]  b: [-17.579071]\n",
      "6100 cost:[ 227.0704 ]  W: [3.9324074]  b: [-17.579071]\n",
      "6200 cost:[ 227.0704 ]  W: [3.9324079]  b: [-17.57908]\n",
      "6300 cost:[ 227.0704 ]  W: [3.9324079]  b: [-17.57908]\n",
      "6400 cost:[ 227.0704 ]  W: [3.9324076]  b: [-17.57908]\n",
      "6500 cost:[ 227.0704 ]  W: [3.9324079]  b: [-17.57908]\n",
      "6600 cost:[ 227.07043 ]  W: [3.932408]  b: [-17.57908]\n",
      "6700 cost:[ 227.0704 ]  W: [3.9324076]  b: [-17.57908]\n",
      "6800 cost:[ 227.0704 ]  W: [3.9324076]  b: [-17.57908]\n",
      "6900 cost:[ 227.0704 ]  W: [3.9324083]  b: [-17.579086]\n",
      "7000 cost:[ 227.0704 ]  W: [3.932408]  b: [-17.579086]\n",
      "7100 cost:[ 227.0704 ]  W: [3.9324083]  b: [-17.579086]\n",
      "7200 cost:[ 227.0704 ]  W: [3.932408]  b: [-17.579086]\n",
      "7300 cost:[ 227.0704 ]  W: [3.9324083]  b: [-17.579086]\n",
      "7400 cost:[ 227.0704 ]  W: [3.9324083]  b: [-17.579086]\n",
      "7500 cost:[ 227.0704 ]  W: [3.9324083]  b: [-17.579086]\n",
      "7600 cost:[ 227.0704 ]  W: [3.932408]  b: [-17.579086]\n",
      "7700 cost:[ 227.07039 ]  W: [3.9324086]  b: [-17.57909]\n",
      "7800 cost:[ 227.07039 ]  W: [3.9324086]  b: [-17.57909]\n",
      "7900 cost:[ 227.0704 ]  W: [3.9324086]  b: [-17.579096]\n",
      "8000 cost:[ 227.07045 ]  W: [3.9324088]  b: [-17.579096]\n",
      "8100 cost:[ 227.07045 ]  W: [3.9324088]  b: [-17.579096]\n",
      "8200 cost:[ 227.0704 ]  W: [3.9324086]  b: [-17.579096]\n",
      "8300 cost:[ 227.07045 ]  W: [3.9324088]  b: [-17.579096]\n",
      "8400 cost:[ 227.07045 ]  W: [3.9324088]  b: [-17.579096]\n",
      "8500 cost:[ 227.0704 ]  W: [3.9324086]  b: [-17.579096]\n",
      "8600 cost:[ 227.07045 ]  W: [3.9324088]  b: [-17.579096]\n",
      "8700 cost:[ 227.0704 ]  W: [3.9324086]  b: [-17.579096]\n",
      "8800 cost:[ 227.0704 ]  W: [3.9324086]  b: [-17.579096]\n",
      "8900 cost:[ 227.07045 ]  W: [3.9324088]  b: [-17.579096]\n",
      "9000 cost:[ 227.0704 ]  W: [3.9324086]  b: [-17.579096]\n",
      "9100 cost:[ 227.0704 ]  W: [3.9324086]  b: [-17.579096]\n",
      "9200 cost:[ 227.07045 ]  W: [3.9324088]  b: [-17.579096]\n",
      "9300 cost:[ 227.0704 ]  W: [3.9324086]  b: [-17.579096]\n",
      "9400 cost:[ 227.0704 ]  W: [3.9324086]  b: [-17.579096]\n",
      "9500 cost:[ 227.07043 ]  W: [3.9324086]  b: [-17.579094]\n",
      "9600 cost:[ 227.07043 ]  W: [3.9324088]  b: [-17.579094]\n",
      "9700 cost:[ 227.07043 ]  W: [3.9324088]  b: [-17.579094]\n",
      "9800 cost:[ 227.07043 ]  W: [3.9324086]  b: [-17.579094]\n",
      "9900 cost:[ 227.07043 ]  W: [3.932409]  b: [-17.579092]\n",
      "10000 cost:[ 227.07152 ]  W: [3.9304893]  b: [-17.581043]\n",
      "***** Learning Finished!!\n"
     ]
    }
   ],
   "source": [
    "# 학습 시작\n",
    "print('***** Start Learning!!')\n",
    "for step in range(10001):\n",
    "    optimizer.minimize(cost_func,var_list=[W,b])\n",
    "\n",
    "    if step % 100 == 0:\n",
    "        print('%04d'%step,'cost:[',cost_func().numpy(),']',\n",
    "             ' W:',W.numpy(),' b:',b.numpy())\n",
    "    \n",
    "print('***** Learning Finished!!')     "
   ]
  },
  {
   "cell_type": "code",
   "execution_count": 12,
   "id": "7f0a98d9",
   "metadata": {},
   "outputs": [
    {
     "name": "stdout",
     "output_type": "stream",
     "text": [
      "Weight: [3.9304893]\n",
      "Bias: [-17.581043]\n"
     ]
    }
   ],
   "source": [
    "# 회귀 계수, weight과 bias 출력\n",
    "print('Weight:',W.numpy())\n",
    "print('Bias:',b.numpy())\n",
    "# H(X) = 3.9304893*X - 17.581043"
   ]
  },
  {
   "cell_type": "code",
   "execution_count": 16,
   "id": "e5e6425e",
   "metadata": {},
   "outputs": [
    {
     "name": "stdout",
     "output_type": "stream",
     "text": [
      "***** Predict\n",
      "speed=30, dist= [100.33363]\n",
      "speed=50, dist= [178.94342]\n",
      "speed=[10,11,12,24,25], dist= [21.72385  25.654339 29.584827 76.7507   80.68118 ]\n"
     ]
    }
   ],
   "source": [
    "# 예측\n",
    "print('***** Predict')\n",
    "# 속도가 30과 50일 때 제동 거리를 예측해 보세요\n",
    "print('speed=30, dist=',hypothesis(30).numpy())\n",
    "print('speed=50, dist=',hypothesis(50).numpy())\n",
    "# X = [10,11,12,24,25] 일때\n",
    "print('speed=[10,11,12,24,25], dist=',hypothesis([10,11,12,24,25]).numpy())"
   ]
  },
  {
   "cell_type": "code",
   "execution_count": 20,
   "id": "55fb2309",
   "metadata": {},
   "outputs": [
    {
     "name": "stderr",
     "output_type": "stream",
     "text": [
      "C:\\Users\\storm\\anaconda3\\envs\\tf210\\lib\\site-packages\\numpy\\core\\shape_base.py:65: VisibleDeprecationWarning: Creating an ndarray from ragged nested sequences (which is a list-or-tuple of lists-or-tuples-or ndarrays with different lengths or shapes) is deprecated. If you meant to do this, you must specify 'dtype=object' when creating the ndarray.\n",
      "  ary = asanyarray(ary)\n"
     ]
    },
    {
     "data": {
      "text/plain": [
       "[<matplotlib.lines.Line2D at 0x1f337bff670>]"
      ]
     },
     "execution_count": 20,
     "metadata": {},
     "output_type": "execute_result"
    },
    {
     "data": {
      "image/png": "[encoded data removed]",
      "text/plain": [
       "<Figure size 640x480 with 1 Axes>"
      ]
     },
     "metadata": {},
     "output_type": "display_data"
    }
   ],
   "source": [
    "# 시각화 : matplotlib 사용\n",
    "import matplotlib.pyplot as plt\n",
    "\n",
    "def prediction(X,W,b):\n",
    "    return X*W + b\n",
    "\n",
    "plt.plot(x_train,y_train,'ro')  # 원본 데이터 , Red color\n",
    "plt.plot((0,25),(prediction(0,W,b),prediction(25,W,b)),'b')  # 예측함수 , Blue color\n",
    "plt.plot((0,25),(0,prediction(25,W,b)),'g')"
   ]
  },
  {
   "cell_type": "code",
   "execution_count": null,
   "id": "aa6c11fc",
   "metadata": {},
   "outputs": [],
   "source": []
  }
 ],
 "metadata": {
  "kernelspec": {
   "display_name": "Python 3 (ipykernel)",
   "language": "python",
   "name": "python3"
  },
  "language_info": {
   "codemirror_mode": {
    "name": "ipython",
    "version": 3
   },
   "file_extension": ".py",
   "mimetype": "text/x-python",
   "name": "python",
   "nbconvert_exporter": "python",
   "pygments_lexer": "ipython3",
   "version": "3.9.16"
  }
 },
 "nbformat": 4,
 "nbformat_minor": 5
}
