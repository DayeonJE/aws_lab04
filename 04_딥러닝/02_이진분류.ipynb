{
 "cells": [
  {
   "cell_type": "markdown",
   "id": "c3a4f5c0",
   "metadata": {},
   "source": [
    "### Logistic Regression (= Binary Classification)\n",
    ":  당뇨병 진단 2진 분류 모델"
   ]
  },
  {
   "cell_type": "code",
   "execution_count": 1,
   "id": "1a3cf4d8",
   "metadata": {},
   "outputs": [],
   "source": [
    "import tensorflow as tf\n",
    "import numpy as np"
   ]
  },
  {
   "cell_type": "code",
   "execution_count": 2,
   "id": "e4e4b395",
   "metadata": {},
   "outputs": [
    {
     "data": {
      "text/plain": [
       "array([[-0.294118 ,  0.487437 ,  0.180328 , ..., -0.53117  , -0.0333333,\n",
       "         0.       ],\n",
       "       [-0.882353 , -0.145729 ,  0.0819672, ..., -0.766866 , -0.666667 ,\n",
       "         1.       ],\n",
       "       [-0.0588235,  0.839196 ,  0.0491803, ..., -0.492741 , -0.633333 ,\n",
       "         0.       ],\n",
       "       ...,\n",
       "       [-0.411765 ,  0.21608  ,  0.180328 , ..., -0.857387 , -0.7      ,\n",
       "         1.       ],\n",
       "       [-0.882353 ,  0.266332 , -0.0163934, ..., -0.768574 , -0.133333 ,\n",
       "         0.       ],\n",
       "       [-0.882353 , -0.0653266,  0.147541 , ..., -0.797609 , -0.933333 ,\n",
       "         1.       ]], dtype=float32)"
      ]
     },
     "execution_count": 2,
     "metadata": {},
     "output_type": "execute_result"
    }
   ],
   "source": [
    "# 데이터 불러오기\n",
    "xy = np.loadtxt('data-03-diabetes.csv',delimiter=',',dtype=np.float32)\n",
    "xy.shape  # (759, 9)\n",
    "\n",
    "# 학습 데이터 분리 : 70% , 531개\n",
    "x_train = xy[:531,:-1]   # X\n",
    "y_train = xy[:531,[-1]]  # Y\n",
    "x_train.shape            # (531, 8)\n",
    "y_train.shape            # (531, 1)\n",
    "\n",
    "# 검증 데이터 분리 : 30% , 228개\n",
    "x_test = xy[531:,:-1]\n",
    "y_test = xy[531:,[-1]]\n",
    "x_test.shape             # (228, 8)\n",
    "y_test.shape             # (228, 1)\n",
    "xy"
   ]
  },
  {
   "cell_type": "code",
   "execution_count": 3,
   "id": "e39b5012",
   "metadata": {},
   "outputs": [],
   "source": [
    "# 변수 초기화 : weight, bias\n",
    "# (m,n) * (n,l)  = (m,l) : 행렬의 내적 곱셈 공식\n",
    "# (531,8) * (8,1) = (531,1)\n",
    "#  X    *   W     =   Y\n",
    "W = tf.Variable(tf.random.normal([8,1]),name='weight')\n",
    "b = tf.Variable(tf.random.normal([1]),name='bias')"
   ]
  },
  {
   "cell_type": "code",
   "execution_count": 4,
   "id": "a500ac4a",
   "metadata": {},
   "outputs": [],
   "source": [
    "# 예측 함수(hypothesis) : H(X) = sigmoid(W*X + b)\n",
    "def hypothesis(X):\n",
    "    return tf.sigmoid(tf.matmul(X,W) + b)  # 0과 1사이의 값이 출력"
   ]
  },
  {
   "cell_type": "code",
   "execution_count": 5,
   "id": "845253bf",
   "metadata": {},
   "outputs": [],
   "source": [
    "# 비용 함수 : logloss , 2진 분류 모델\n",
    "def cost_func():\n",
    "    cost = -tf.reduce_mean(y_train*tf.math.log(hypothesis(x_train)) +\n",
    "                         (1-y_train)*tf.math.log(1-hypothesis(x_train)))\n",
    "    return cost"
   ]
  },
  {
   "cell_type": "code",
   "execution_count": 6,
   "id": "fc8a19e5",
   "metadata": {},
   "outputs": [],
   "source": [
    "# 경사 하강법\n",
    "optimizer = tf.keras.optimizers.Adam(learning_rate=0.01)"
   ]
  },
  {
   "cell_type": "code",
   "execution_count": 7,
   "id": "5509afa6",
   "metadata": {},
   "outputs": [
    {
     "name": "stdout",
     "output_type": "stream",
     "text": [
      "***** Start Learning!!\n",
      "0000 cost:[ 0.97325844 ]  W: [[ 0.81304073]\n",
      " [ 1.170205  ]\n",
      " [ 0.31772438]\n",
      " [-0.44147253]\n",
      " [-1.1904342 ]\n",
      " [-0.91492796]\n",
      " [-0.69127184]\n",
      " [ 1.2037741 ]]  b: [1.9922737]\n",
      "1000 cost:[ 0.48724088 ]  W: [[-0.7444499 ]\n",
      " [-3.0180564 ]\n",
      " [ 0.13535836]\n",
      " [-0.5095887 ]\n",
      " [-0.26071465]\n",
      " [-2.5602207 ]\n",
      " [-0.8383961 ]\n",
      " [ 0.08903666]]  b: [0.32701328]\n",
      "2000 cost:[ 0.48665875 ]  W: [[-0.7648438 ]\n",
      " [-3.3271089 ]\n",
      " [ 0.24500145]\n",
      " [-0.5484393 ]\n",
      " [-0.21684285]\n",
      " [-2.5529134 ]\n",
      " [-0.8670405 ]\n",
      " [ 0.11285454]]  b: [0.37881368]\n",
      "3000 cost:[ 0.4866587 ]  W: [[-0.76468754]\n",
      " [-3.3311324 ]\n",
      " [ 0.24389823]\n",
      " [-0.54806757]\n",
      " [-0.21599998]\n",
      " [-2.5523198 ]\n",
      " [-0.8651107 ]\n",
      " [ 0.1138176 ]]  b: [0.3823942]\n",
      "4000 cost:[ 0.4866587 ]  W: [[-0.7646867]\n",
      " [-3.3311386]\n",
      " [ 0.2438953]\n",
      " [-0.548068 ]\n",
      " [-0.2159985]\n",
      " [-2.5523171]\n",
      " [-0.8651079]\n",
      " [ 0.1138189]]  b: [0.3823997]\n",
      "5000 cost:[ 0.4866587 ]  W: [[-0.76468664]\n",
      " [-3.331141  ]\n",
      " [ 0.24389535]\n",
      " [-0.54806775]\n",
      " [-0.21599798]\n",
      " [-2.5523167 ]\n",
      " [-0.8651065 ]\n",
      " [ 0.11381904]]  b: [0.3824016]\n",
      "6000 cost:[ 0.4866587 ]  W: [[-0.7646869 ]\n",
      " [-3.3311424 ]\n",
      " [ 0.24389574]\n",
      " [-0.54806864]\n",
      " [-0.21599804]\n",
      " [-2.5523157 ]\n",
      " [-0.86510706]\n",
      " [ 0.11381921]]  b: [0.3824013]\n",
      "7000 cost:[ 0.48665863 ]  W: [[-0.7646868 ]\n",
      " [-3.3311436 ]\n",
      " [ 0.24389602]\n",
      " [-0.54806894]\n",
      " [-0.21599711]\n",
      " [-2.5523157 ]\n",
      " [-0.8651067 ]\n",
      " [ 0.11381828]]  b: [0.38240153]\n",
      "8000 cost:[ 0.48665863 ]  W: [[-0.7646868 ]\n",
      " [-3.331144  ]\n",
      " [ 0.24389558]\n",
      " [-0.5480688 ]\n",
      " [-0.21599743]\n",
      " [-2.5523155 ]\n",
      " [-0.8651062 ]\n",
      " [ 0.11381883]]  b: [0.38240227]\n",
      "9000 cost:[ 0.4866587 ]  W: [[-0.7646866 ]\n",
      " [-3.3311446 ]\n",
      " [ 0.24389577]\n",
      " [-0.5480688 ]\n",
      " [-0.21599647]\n",
      " [-2.5523155 ]\n",
      " [-0.865107  ]\n",
      " [ 0.11381862]]  b: [0.38240206]\n",
      "10000 cost:[ 0.4866587 ]  W: [[-0.76468647]\n",
      " [-3.3311446 ]\n",
      " [ 0.24389578]\n",
      " [-0.5480685 ]\n",
      " [-0.21599725]\n",
      " [-2.5523152 ]\n",
      " [-0.86510605]\n",
      " [ 0.11381822]]  b: [0.3824026]\n",
      "***** Learning Finished!!\n"
     ]
    }
   ],
   "source": [
    "# 학습 시작\n",
    "print('***** Start Learning!!')\n",
    "for step in range(10001):\n",
    "    optimizer.minimize(cost_func,var_list=[W,b])\n",
    "\n",
    "    if step % 1000 == 0:\n",
    "        print('%04d'%step,'cost:[',cost_func().numpy(),']',\n",
    "             ' W:',W.numpy(),' b:',b.numpy())\n",
    "    \n",
    "print('***** Learning Finished!!')     "
   ]
  },
  {
   "cell_type": "code",
   "execution_count": 8,
   "id": "50578a5c",
   "metadata": {},
   "outputs": [
    {
     "name": "stdout",
     "output_type": "stream",
     "text": [
      "Weight: [[-0.76468647]\n",
      " [-3.3311446 ]\n",
      " [ 0.24389578]\n",
      " [-0.5480685 ]\n",
      " [-0.21599725]\n",
      " [-2.5523152 ]\n",
      " [-0.86510605]\n",
      " [ 0.11381822]]\n",
      "Bias: [0.3824026]\n"
     ]
    }
   ],
   "source": [
    "# 회귀 계수, weight과 bias 출력\n",
    "print('Weight:',W.numpy())\n",
    "print('Bias:',b.numpy())"
   ]
  },
  {
   "cell_type": "code",
   "execution_count": 9,
   "id": "25d2810c",
   "metadata": {},
   "outputs": [
    {
     "name": "stdout",
     "output_type": "stream",
     "text": [
      "Accuracy: 0.78070176\n"
     ]
    }
   ],
   "source": [
    "# 정확도 측정 : accuracy computation\n",
    "def predict(X):\n",
    "    return tf.cast(hypothesis(X) > 0.5,dtype=tf.float32)\n",
    "\n",
    "# 검증 데이터를 사용하여 예측 (70%:30%)\n",
    "preds = predict(x_test)\n",
    "accuracy = tf.reduce_mean(tf.cast(tf.equal(preds,y_test),dtype=tf.float32))\n",
    "\n",
    "print('Accuracy:',accuracy.numpy())  # Accuracy: 0.78070176"
   ]
  },
  {
   "cell_type": "code",
   "execution_count": null,
   "id": "17dd85a1",
   "metadata": {},
   "outputs": [],
   "source": []
  }
 ],
 "metadata": {
  "kernelspec": {
   "display_name": "Python 3 (ipykernel)",
   "language": "python",
   "name": "python3"
  },
  "language_info": {
   "codemirror_mode": {
    "name": "ipython",
    "version": 3
   },
   "file_extension": ".py",
   "mimetype": "text/x-python",
   "name": "python",
   "nbconvert_exporter": "python",
   "pygments_lexer": "ipython3",
   "version": "3.9.16"
  }
 },
 "nbformat": 4,
 "nbformat_minor": 5
}
