{
 "cells": [
  {
   "cell_type": "markdown",
   "id": "c7c9e7da",
   "metadata": {},
   "source": [
    "### Multi Classification \n",
    ": 다중분류  \n",
    "활성화 함수(Activation function) 으로 softmax함수 가 사용된다\n"
   ]
  },
  {
   "cell_type": "code",
   "execution_count": 1,
   "id": "e17a5e9e",
   "metadata": {},
   "outputs": [],
   "source": [
    "import tensorflow as tf\n",
    "import numpy as np"
   ]
  },
  {
   "cell_type": "code",
   "execution_count": 3,
   "id": "1b289f39",
   "metadata": {},
   "outputs": [
    {
     "name": "stdout",
     "output_type": "stream",
     "text": [
      "(101, 17)\n"
     ]
    }
   ],
   "source": [
    "# 데이터 가져오기\n",
    "xy =np.loadtxt('data-04-zoo.csv',delimiter=',',dtype=np.float32)\n",
    "print(xy.shape)  # (101,17)\n",
    "\n",
    "# 학습 데이터 : 70% , 70개\n",
    "x_train = xy[__,__]\n",
    "y_train = xy[__,__]\n",
    "\n",
    "# 검증 데이터 : 30%, 31개\n",
    "x_test = xy[__,__]\n",
    "y_test = xy[__,__]"
   ]
  },
  {
   "cell_type": "code",
   "execution_count": null,
   "id": "eae0c0bc",
   "metadata": {},
   "outputs": [],
   "source": []
  }
 ],
 "metadata": {
  "kernelspec": {
   "display_name": "Python 3 (ipykernel)",
   "language": "python",
   "name": "python3"
  },
  "language_info": {
   "codemirror_mode": {
    "name": "ipython",
    "version": 3
   },
   "file_extension": ".py",
   "mimetype": "text/x-python",
   "name": "python",
   "nbconvert_exporter": "python",
   "pygments_lexer": "ipython3",
   "version": "3.9.16"
  }
 },
 "nbformat": 4,
 "nbformat_minor": 5
}
